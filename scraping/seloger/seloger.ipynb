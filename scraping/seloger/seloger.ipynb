{
 "cells": [
  {
   "cell_type": "code",
   "execution_count": 1,
   "metadata": {},
   "outputs": [],
   "source": [
    "import undetected_chromedriver as uc \n",
    "import os\n",
    "import pandas as pd\n",
    "from bs4 import BeautifulSoup\n",
    "import time\n",
    "from selenium.webdriver.common.by import By"
   ]
  },
  {
   "cell_type": "code",
   "execution_count": 2,
   "metadata": {},
   "outputs": [
    {
     "name": "stdout",
     "output_type": "stream",
     "text": [
      "https://www.seloger.com/annonces/locations/appartement/paris-1er-75/seine-et-berges/162852333.htm?projects=1&types=2,1&places=[{%22inseeCodes%22:[750056]}]&mandatorycommodities=0&privateseller=1&enterprise=0&qsVersion=1.0&m=search_to_detail&lv=S\n",
      "https://www.seloger.com/annonces/locations/appartement/paris-8eme-75/parc-monceau/166978385.htm?projects=1&types=2,1&places=[{%22inseeCodes%22:[750056]}]&mandatorycommodities=0&privateseller=1&enterprise=0&qsVersion=1.0&m=search_to_detail&lv=S\n",
      "https://www.seloger.com/annonces/locations/appartement/paris-16eme-75/auteuil-sud/166959135.htm?projects=1&types=2,1&places=[{%22inseeCodes%22:[750056]}]&mandatorycommodities=0&privateseller=1&enterprise=0&qsVersion=1.0&m=search_to_detail&lv=S\n",
      "https://www.seloger.com/annonces/locations/appartement/paris-18eme-75/montmartre/167290247.htm?projects=1&types=2,1&places=[{%22inseeCodes%22:[750056]}]&mandatorycommodities=0&privateseller=1&enterprise=0&qsVersion=1.0&m=search_to_detail&lv=S\n",
      "https://www.seloger.com/annonces/locations/appartement/paris-9eme-75/provence-opera/205012401.htm?projects=1&types=2,1&places=[{%22inseeCodes%22:[750056]}]&mandatorycommodities=0&privateseller=1&enterprise=0&qsVersion=1.0&m=search_to_detail&lv=S\n",
      "https://www.seloger.com/annonces/locations/appartement/paris-16eme-75/muette-nord/206599603.htm?projects=1&types=2,1&places=[{%22inseeCodes%22:[750056]}]&mandatorycommodities=0&privateseller=1&enterprise=0&qsVersion=1.0&m=search_to_detail&lv=S\n",
      "https://www.seloger.com/annonces/locations/appartement/paris-18eme-75/goutte-d-or-chateau-rouge/190821785.htm?projects=1&types=2,1&places=[{%22inseeCodes%22:[750056]}]&mandatorycommodities=0&privateseller=1&enterprise=0&qsVersion=1.0&m=search_to_detail&lv=S\n",
      "https://www.seloger.com/annonces/locations/appartement/paris-15eme-75/alleray-procession/196090679.htm?projects=1&types=2,1&places=[{%22inseeCodes%22:[750056]}]&mandatorycommodities=0&privateseller=1&enterprise=0&qsVersion=1.0&m=search_to_detail&lv=S\n",
      "https://www.seloger.com/annonces/locations/appartement/paris-15eme-75/vaugirard-parc-des-expositions/198288777.htm?projects=1&types=2,1&places=[{%22inseeCodes%22:[750056]}]&mandatorycommodities=0&privateseller=1&enterprise=0&qsVersion=1.0&m=search_to_detail&lv=S\n",
      "https://www.seloger.com/annonces/locations/appartement/paris-17eme-75/pereire-malesherbes/212580285.htm?projects=1&types=2,1&places=[{%22inseeCodes%22:[750056]}]&mandatorycommodities=0&privateseller=1&enterprise=0&qsVersion=1.0&m=search_to_detail_boost_extend&lv=L\n",
      "https://www.seloger.com/annonces/locations/appartement/paris-18eme-75/amiraux-simplon-poissonniers/198397907.htm?projects=1&types=2,1&places=[{%22inseeCodes%22:[750056]}]&mandatorycommodities=0&privateseller=1&enterprise=0&qsVersion=1.0&m=search_to_detail&lv=S\n",
      "https://www.seloger.com/annonces/locations/appartement/paris-5eme-75/val-de-grace/195694785.htm?projects=1&types=2,1&places=[{%22inseeCodes%22:[750056]}]&mandatorycommodities=0&privateseller=1&enterprise=0&qsVersion=1.0&m=search_to_detail&lv=S\n",
      "https://www.seloger.com/annonces/locations/appartement/paris-14eme-75/jean-moulin-porte-d-orleans/197537911.htm?projects=1&types=2,1&places=[{%22inseeCodes%22:[750056]}]&mandatorycommodities=0&privateseller=1&enterprise=0&qsVersion=1.0&m=search_to_detail&lv=S\n",
      "https://www.seloger.com/annonces/locations/appartement/paris-18eme-75/grandes-carrieres-clichy/188865473.htm?projects=1&types=2,1&places=[{%22inseeCodes%22:[750056]}]&mandatorycommodities=0&privateseller=1&enterprise=0&qsVersion=1.0&m=search_to_detail&lv=S\n",
      "https://www.seloger.com/annonces/locations/appartement/paris-13eme-75/buttes-aux-cailles-glaciere/189429383.htm?projects=1&types=2,1&places=[{%22inseeCodes%22:[750056]}]&mandatorycommodities=0&privateseller=1&enterprise=0&qsVersion=1.0&m=search_to_detail&lv=S\n",
      "https://www.seloger.com/annonces/locations/appartement/paris-10eme-75/faubourg-du-temple-hopital-saint-louis/190230425.htm?projects=1&types=2,1&places=[{%22inseeCodes%22:[750056]}]&mandatorycommodities=0&privateseller=1&enterprise=0&qsVersion=1.0&m=search_to_detail&lv=S\n",
      "https://www.seloger.com/annonces/locations/appartement/paris-17eme-75/ternes-maillot/207290963.htm?projects=1&types=2,1&places=[{%22inseeCodes%22:[750056]}]&mandatorycommodities=0&privateseller=1&enterprise=0&qsVersion=1.0&m=search_to_detail&lv=S\n",
      "https://www.seloger.com/annonces/locations/appartement/paris-18eme-75/clignancourt-jules-joffrin/205324819.htm?projects=1&types=2,1&places=[{%22inseeCodes%22:[750056]}]&mandatorycommodities=0&privateseller=1&enterprise=0&qsVersion=1.0&m=search_to_detail&lv=S\n",
      "https://www.seloger.com/annonces/locations/appartement/paris-5eme-75/val-de-grace/208043695.htm?projects=1&types=2,1&places=[{%22inseeCodes%22:[750056]}]&mandatorycommodities=0&privateseller=1&enterprise=0&qsVersion=1.0&m=search_to_detail&lv=S\n",
      "https://www.seloger.com/annonces/locations/appartement/paris-16eme-75/chaillot/205667879.htm?projects=1&types=2,1&places=[{%22inseeCodes%22:[750056]}]&mandatorycommodities=0&privateseller=1&enterprise=0&qsVersion=1.0&m=search_to_detail&lv=S\n",
      "https://www.seloger.com/annonces/locations/appartement/paris-17eme-75/pereire-malesherbes/209348151.htm?projects=1&types=2,1&places=[{%22inseeCodes%22:[750056]}]&mandatorycommodities=0&privateseller=1&enterprise=0&qsVersion=1.0&m=search_to_detail&lv=S\n",
      "https://www.seloger.com/annonces/locations/appartement/paris-9eme-75/lorette-martyrs/212257327.htm?projects=1&types=2,1&places=[{%22inseeCodes%22:[750056]}]&mandatorycommodities=0&privateseller=1&enterprise=0&qsVersion=1.0&m=search_to_detail&lv=S\n",
      "https://www.seloger.com/annonces/locations/appartement/paris-16eme-75/auteuil-sud/211338401.htm?projects=1&types=2,1&places=[{%22inseeCodes%22:[750056]}]&mandatorycommodities=0&privateseller=1&enterprise=0&qsVersion=1.0&m=search_to_detail_boost_extend&lv=L\n",
      "https://www.seloger.com/annonces/locations/appartement/paris-4eme-75/saint-gervais/212196669.htm?projects=1&types=2,1&places=[{%22inseeCodes%22:[750056]}]&mandatorycommodities=0&privateseller=1&enterprise=0&qsVersion=1.0&m=search_to_detail&lv=S\n",
      "https://www.seloger.com/annonces/locations/appartement/paris-15eme-75/vaugirard-parc-des-expositions/213639741.htm?projects=1&types=2,1&places=[{%22inseeCodes%22:[750056]}]&mandatorycommodities=0&privateseller=1&enterprise=0&qsVersion=1.0&m=search_to_detail&lv=S\n",
      "https://www.seloger.com/annonces/locations/appartement/paris-18eme-75/charles-hermite-evangile/213749335.htm?projects=1&types=2,1&places=[{%22inseeCodes%22:[750056]}]&mandatorycommodities=0&privateseller=1&enterprise=0&qsVersion=1.0&m=search_to_detail&lv=S\n",
      "https://www.seloger.com/annonces/locations/appartement/paris-11eme-75/belleville-saint-maur/213955973.htm?projects=1&types=2,1&places=[{%22inseeCodes%22:[750056]}]&mandatorycommodities=0&privateseller=1&enterprise=0&qsVersion=1.0&m=search_to_detail&lv=S\n"
     ]
    }
   ],
   "source": [
    "\"\"\" Test avec Seloger\"\"\"\n",
    "pages = []\n",
    "\n",
    "\n",
    "## Set Chrome Options\n",
    "options = uc.ChromeOptions()\n",
    "#options.headless=True\n",
    "#options.add_argument('--headless')\n",
    "#options.add_argument(f'--proxy-server={PROXY}')\n",
    "#options.add_argument(f\"user-agent={my_user_agent}\")\n",
    "\n",
    "## Create Undetected Chromedriver with Proxy\n",
    "driver = uc.Chrome(options=options)\n",
    "\n",
    "\n",
    "url = \"https://www.seloger.com/list.htm?projects=1&types=2%2C1&places=%5B%7B%22inseeCodes%22%3A%5B750056%5D%7D%5D&mandatorycommodities=0&privateseller=1&enterprise=0&qsVersion=1.0&LISTING-LISTpg=1\"\n",
    "## Send Request\n",
    "driver.get(url)\n",
    "annonces = driver.find_elements(By.XPATH, '//a[@data-testid=\"sl.explore.coveringLink\"]')\n",
    "liste_liens = []\n",
    "# Récupérez les liens des annonces\n",
    "for lien in annonces:\n",
    "    lien_annonce = lien.get_attribute('href')\n",
    "    liste_liens.append(lien_annonce)\n",
    "    print(lien_annonce)\n",
    "\n",
    "driver.quit()\n",
    "\n"
   ]
  },
  {
   "cell_type": "code",
   "execution_count": 3,
   "metadata": {},
   "outputs": [
    {
     "data": {
      "text/plain": [
       "'https://www.seloger.com/annonces/locations/appartement/paris-1er-75/seine-et-berges/162852333.htm?projects=1&types=2,1&places=[{%22inseeCodes%22:[750056]}]&mandatorycommodities=0&privateseller=1&enterprise=0&qsVersion=1.0&m=search_to_detail&lv=S'"
      ]
     },
     "execution_count": 3,
     "metadata": {},
     "output_type": "execute_result"
    }
   ],
   "source": [
    "liste_liens[0]"
   ]
  },
  {
   "cell_type": "code",
   "execution_count": 17,
   "metadata": {},
   "outputs": [
    {
     "name": "stdout",
     "output_type": "stream",
     "text": [
      "\n",
      "\n",
      "\n",
      "\n",
      "\n",
      "\n",
      "\n",
      "\n",
      "\n",
      "\n",
      "\n",
      "\n",
      "\n",
      "\n",
      "\n",
      "\n",
      "\n",
      "\n",
      "\n",
      "\n",
      "\n",
      "\n",
      "\n",
      "\n",
      "\n",
      "\n",
      "\n",
      "\n",
      "\n",
      "\n",
      "\n",
      "\n",
      "\n",
      "\n",
      "\n",
      "\n"
     ]
    }
   ],
   "source": [
    "from selenium.webdriver.common.by import By\n",
    "from selenium.webdriver.support.ui import WebDriverWait\n",
    "from selenium.webdriver.support import expected_conditions as EC\n",
    "from selenium.common.exceptions import NoSuchElementException\n",
    "\n",
    "url_annonce = liste_liens[2]\n",
    "results = pd.DataFrame()\n",
    "\n",
    "l=[]\n",
    "options = uc.ChromeOptions()\n",
    "driver = uc.Chrome(options=options)\n",
    "driver.get(url_annonce)\n",
    "\n",
    "#Titre de l'annonce:\n",
    "#titres_annonces = driver.find_elements(By.XPATH, '//div[@class=\"Summarystyled__Title-sc-1u9xobv-4 dbveQQ\"]')[0].text\n",
    "#l.append(titres_annonces)\n",
    "\n",
    "#Prix:\n",
    "#prix = driver.find_elements(By.XPATH, '//span[@class=\"global-styles__TextNoWrap-sc-1gbe8ip-6 gxurQr\"]')[1].text #à voir si c'est toujours la 2e span \n",
    "#l.append(prix)\n",
    "\n",
    "#Autres infos:\n",
    "#Ordre: Nb pièces, (Nb chambres), Surface, Nb etages, Balcon, Terasse, Jardin, Garage, Ascenceur, Piscine  ?Parking?\n",
    "# autres_infos_WebElement = driver.find_elements(By.XPATH, '//div[@class=\"Tags__TagContainer-sc-edpl7u-0 EPxew\"]')\n",
    "# autres_infos = [element.text for element in autres_infos_WebElement]\n",
    "# l.append(autres_infos)\n",
    "\n",
    "#Quartier:\n",
    "# quartier = driver.find_elements(By.XPATH, '//span[@data-test=\"neighbourhood\"]')[0].text\n",
    "#l.append(quartier)\n",
    "\n",
    "#Ville + code postal:\n",
    "# ville_cp = driver.find_elements(By.XPATH, '//span[@class=\"Localizationstyled__City-sc-gdkcr2-1 bgtLnh\"]')[0].text\n",
    "# print(ville_cp)\n",
    "# l.append(ville_cp)\n",
    "\n",
    "#Description:\n",
    "#Renvoie une liste vide, à creuser\n",
    "\n",
    "#Caractéristiques:\n",
    "# nom_categories = [\"Cadre et situation\"] #, \"Services et accessibilité\", \"Cuisine\", \"Hygiène\", \"Pièces à vivre\"]\n",
    "# df_categories = {}\n",
    "\n",
    "\n",
    "# # Utilisez find_elements avec le sélecteur By pour la classe \"feature-title\"\n",
    "# category_elements = driver.find_elements(By.XPATH, '//div[@class=\"TitledDescription__TitledDescriptionContainer-sc-p0zomi-0 gtBcDa GeneralFeaturesstyled__GeneralListTitledDescription-sc-1ia09m5-5 jsTjoV\"]')\n",
    "\n",
    "\n",
    "try:\n",
    "    # Utilisez une attente explicite pour attendre que l'élément parent soit présent sur la page\n",
    "    parent_element = WebDriverWait(driver, 40).until(\n",
    "        EC.presence_of_all_elements_located((By.XPATH, \"//div[@class='TitledDescription__TitledDescriptionContainer-sc-p0zomi-0 gtBcDa GeneralFeaturesstyled__GeneralListTitledDescription-sc-1ia09m5-5 jsTjoV']\"))\n",
    "    )\n",
    "\n",
    "    for category_box in parent_element:\n",
    "        categorie_title = category_box.find_elements(By.XPATH, \"//div[@class='feature-title']\")\n",
    "        for element in categorie_title:\n",
    "            print(element.text)\n",
    "        \n",
    "\n",
    "except Exception as e:\n",
    "    print(\"Une erreur s'est produite :\", str(e))\n",
    "# # Itérez sur la liste d'éléments\n",
    "# for category_element in category_elements:\n",
    "#     # Vérifiez si le texte de la catégorie correspond à ce que vous recherchez\n",
    "#     category_title_we = category_element.find_element(By.XPATH, '//div[@class=\"feature-title\"]')\n",
    "#     print(\"Le titre de catégorie est\", category_title_we[0].text)\n",
    "\n",
    "\n",
    "\n",
    "driver.quit()\n",
    "\n",
    "\n",
    "\n",
    "\n",
    "\n"
   ]
  },
  {
   "cell_type": "code",
   "execution_count": 42,
   "metadata": {},
   "outputs": [
    {
     "data": {
      "text/plain": [
       "''"
      ]
     },
     "execution_count": 42,
     "metadata": {},
     "output_type": "execute_result"
    }
   ],
   "source": [
    "p_element_text"
   ]
  }
 ],
 "metadata": {
  "kernelspec": {
   "display_name": "scrapenv",
   "language": "python",
   "name": "python3"
  },
  "language_info": {
   "codemirror_mode": {
    "name": "ipython",
    "version": 3
   },
   "file_extension": ".py",
   "mimetype": "text/x-python",
   "name": "python",
   "nbconvert_exporter": "python",
   "pygments_lexer": "ipython3",
   "version": "3.9.18"
  }
 },
 "nbformat": 4,
 "nbformat_minor": 2
}
