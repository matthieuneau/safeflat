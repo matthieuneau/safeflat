{
 "cells": [
  {
   "cell_type": "code",
   "execution_count": 1,
   "metadata": {},
   "outputs": [],
   "source": [
    "import undetected_chromedriver as uc \n",
    "import os\n",
    "import pandas as pd\n",
    "from bs4 import BeautifulSoup\n",
    "import time\n",
    "from selenium.webdriver.common.by import By"
   ]
  },
  {
   "cell_type": "code",
   "execution_count": 5,
   "metadata": {},
   "outputs": [
    {
     "name": "stdout",
     "output_type": "stream",
     "text": [
      "https://www.seloger.com/annonces/locations/appartement/paris-1er-75/seine-et-berges/162852333.htm?projects=1&types=2,1&places=[{%22inseeCodes%22:[750056]}]&mandatorycommodities=0&privateseller=1&enterprise=0&qsVersion=1.0&m=search_to_detail&lv=S\n",
      "https://www.seloger.com/annonces/locations/appartement/paris-8eme-75/parc-monceau/166978385.htm?projects=1&types=2,1&places=[{%22inseeCodes%22:[750056]}]&mandatorycommodities=0&privateseller=1&enterprise=0&qsVersion=1.0&m=search_to_detail&lv=S\n",
      "https://www.seloger.com/annonces/locations/appartement/paris-18eme-75/montmartre/167290247.htm?projects=1&types=2,1&places=[{%22inseeCodes%22:[750056]}]&mandatorycommodities=0&privateseller=1&enterprise=0&qsVersion=1.0&m=search_to_detail&lv=S\n",
      "https://www.seloger.com/annonces/locations/appartement/paris-16eme-75/auteuil-sud/166959135.htm?projects=1&types=2,1&places=[{%22inseeCodes%22:[750056]}]&mandatorycommodities=0&privateseller=1&enterprise=0&qsVersion=1.0&m=search_to_detail&lv=S\n",
      "https://www.seloger.com/annonces/locations/appartement/paris-13eme-75/buttes-aux-cailles-glaciere/189429383.htm?projects=1&types=2,1&places=[{%22inseeCodes%22:[750056]}]&mandatorycommodities=0&privateseller=1&enterprise=0&qsVersion=1.0&m=search_to_detail&lv=S\n",
      "https://www.seloger.com/annonces/locations/appartement/paris-10eme-75/faubourg-du-temple-hopital-saint-louis/190230425.htm?projects=1&types=2,1&places=[{%22inseeCodes%22:[750056]}]&mandatorycommodities=0&privateseller=1&enterprise=0&qsVersion=1.0&m=search_to_detail&lv=S\n",
      "https://www.seloger.com/annonces/locations/appartement/paris-18eme-75/grandes-carrieres-clichy/188865473.htm?projects=1&types=2,1&places=[{%22inseeCodes%22:[750056]}]&mandatorycommodities=0&privateseller=1&enterprise=0&qsVersion=1.0&m=search_to_detail&lv=S\n",
      "https://www.seloger.com/annonces/locations/appartement/paris-9eme-75/provence-opera/205012401.htm?projects=1&types=2,1&places=[{%22inseeCodes%22:[750056]}]&mandatorycommodities=0&privateseller=1&enterprise=0&qsVersion=1.0&m=search_to_detail&lv=S\n",
      "https://www.seloger.com/annonces/locations/appartement/paris-18eme-75/goutte-d-or-chateau-rouge/190821785.htm?projects=1&types=2,1&places=[{%22inseeCodes%22:[750056]}]&mandatorycommodities=0&privateseller=1&enterprise=0&qsVersion=1.0&m=search_to_detail&lv=S\n",
      "https://www.bellesdemeures.com/annonces/location/tt-1-tb-1-pl-32588/207507209/?projects=1&types=2,1&places=[{%22inseeCodes%22:[750056]}]&mandatorycommodities=0&privateseller=1&enterprise=0&qsVersion=1.0#?cmp=INTSL_ListToDetail\n",
      "https://www.seloger.com/annonces/locations/appartement/paris-5eme-75/val-de-grace/195694785.htm?projects=1&types=2,1&places=[{%22inseeCodes%22:[750056]}]&mandatorycommodities=0&privateseller=1&enterprise=0&qsVersion=1.0&m=search_to_detail&lv=S\n",
      "https://www.seloger.com/annonces/locations/appartement/paris-14eme-75/jean-moulin-porte-d-orleans/197537911.htm?projects=1&types=2,1&places=[{%22inseeCodes%22:[750056]}]&mandatorycommodities=0&privateseller=1&enterprise=0&qsVersion=1.0&m=search_to_detail&lv=S\n",
      "https://www.seloger.com/annonces/locations/appartement/paris-15eme-75/vaugirard-parc-des-expositions/198288777.htm?projects=1&types=2,1&places=[{%22inseeCodes%22:[750056]}]&mandatorycommodities=0&privateseller=1&enterprise=0&qsVersion=1.0&m=search_to_detail&lv=S\n",
      "https://www.seloger.com/annonces/locations/appartement/paris-18eme-75/amiraux-simplon-poissonniers/198397907.htm?projects=1&types=2,1&places=[{%22inseeCodes%22:[750056]}]&mandatorycommodities=0&privateseller=1&enterprise=0&qsVersion=1.0&m=search_to_detail&lv=S\n",
      "https://www.seloger.com/annonces/locations/appartement/paris-18eme-75/clignancourt-jules-joffrin/205324819.htm?projects=1&types=2,1&places=[{%22inseeCodes%22:[750056]}]&mandatorycommodities=0&privateseller=1&enterprise=0&qsVersion=1.0&m=search_to_detail&lv=S\n",
      "https://www.seloger.com/annonces/locations/appartement/paris-16eme-75/chaillot/205667879.htm?projects=1&types=2,1&places=[{%22inseeCodes%22:[750056]}]&mandatorycommodities=0&privateseller=1&enterprise=0&qsVersion=1.0&m=search_to_detail&lv=S\n",
      "https://www.seloger.com/annonces/locations/appartement/paris-16eme-75/muette-nord/206599603.htm?projects=1&types=2,1&places=[{%22inseeCodes%22:[750056]}]&mandatorycommodities=0&privateseller=1&enterprise=0&qsVersion=1.0&m=search_to_detail&lv=S\n",
      "https://www.seloger.com/annonces/locations/appartement/paris-15eme-75/alleray-procession/196090679.htm?projects=1&types=2,1&places=[{%22inseeCodes%22:[750056]}]&mandatorycommodities=0&privateseller=1&enterprise=0&qsVersion=1.0&m=search_to_detail&lv=S\n",
      "https://www.seloger.com/annonces/locations/appartement/paris-17eme-75/ternes-maillot/207290963.htm?projects=1&types=2,1&places=[{%22inseeCodes%22:[750056]}]&mandatorycommodities=0&privateseller=1&enterprise=0&qsVersion=1.0&m=search_to_detail&lv=S\n",
      "https://www.seloger.com/annonces/locations/appartement/paris-5eme-75/val-de-grace/208043695.htm?projects=1&types=2,1&places=[{%22inseeCodes%22:[750056]}]&mandatorycommodities=0&privateseller=1&enterprise=0&qsVersion=1.0&m=search_to_detail&lv=S\n",
      "https://www.seloger.com/annonces/locations/appartement/paris-17eme-75/pereire-malesherbes/209348151.htm?projects=1&types=2,1&places=[{%22inseeCodes%22:[750056]}]&mandatorycommodities=0&privateseller=1&enterprise=0&qsVersion=1.0&m=search_to_detail&lv=S\n",
      "https://www.seloger.com/annonces/locations/appartement/paris-6eme-75/rennes/210787873.htm?projects=1&types=2,1&places=[{%22inseeCodes%22:[750056]}]&mandatorycommodities=0&privateseller=1&enterprise=0&qsVersion=1.0&m=search_to_detail&lv=S\n",
      "https://www.seloger.com/annonces/locations/appartement/les-lilas-93/la-mairie/209247197.htm?projects=1&types=2,1&places=[{%22inseeCodes%22:[750056]}]&mandatorycommodities=0&privateseller=1&enterprise=0&qsVersion=1.0&m=search_to_detail_boost_extend&lv=L\n",
      "https://www.seloger.com/annonces/locations/appartement/paris-16eme-75/porte-dauphine/211947077.htm?projects=1&types=2,1&places=[{%22inseeCodes%22:[750056]}]&mandatorycommodities=0&privateseller=1&enterprise=0&qsVersion=1.0&m=search_to_detail&lv=S\n",
      "https://www.seloger.com/annonces/locations/appartement/paris-3eme-75/enfants-rouges/213055719.htm?projects=1&types=2,1&places=[{%22inseeCodes%22:[750056]}]&mandatorycommodities=0&privateseller=1&enterprise=0&qsVersion=1.0&m=search_to_detail&lv=S\n",
      "https://www.seloger.com/annonces/locations/appartement/paris-18eme-75/clignancourt-jules-joffrin/213483455.htm?projects=1&types=2,1&places=[{%22inseeCodes%22:[750056]}]&mandatorycommodities=0&privateseller=1&enterprise=0&qsVersion=1.0&m=search_to_detail&lv=S\n",
      "https://www.seloger.com/annonces/locations/appartement/paris-12eme-75/aligre-gare-de-lyon/211752589.htm?projects=1&types=2,1&places=[{%22inseeCodes%22:[750056]}]&mandatorycommodities=0&privateseller=1&enterprise=0&qsVersion=1.0&m=search_to_detail&lv=S\n"
     ]
    }
   ],
   "source": [
    "\"\"\" Test avec Seloger\"\"\"\n",
    "pages = []\n",
    "\n",
    "\n",
    "## Set Chrome Options\n",
    "options = uc.ChromeOptions()\n",
    "#options.headless=True\n",
    "#options.add_argument('--headless')\n",
    "#options.add_argument(f'--proxy-server={PROXY}')\n",
    "#options.add_argument(f\"user-agent={my_user_agent}\")\n",
    "\n",
    "## Create Undetected Chromedriver with Proxy\n",
    "driver = uc.Chrome(options=options)\n",
    "\n",
    "\n",
    "url = \"https://www.seloger.com/list.htm?projects=1&types=2%2C1&places=%5B%7B%22inseeCodes%22%3A%5B750056%5D%7D%5D&mandatorycommodities=0&privateseller=1&enterprise=0&qsVersion=1.0&LISTING-LISTpg=1\"\n",
    "## Send Request\n",
    "driver.get(url)\n",
    "annonces = driver.find_elements(By.XPATH, '//a[@data-testid=\"sl.explore.coveringLink\"]')\n",
    "liste_liens = []\n",
    "# Récupérez les liens des annonces\n",
    "for lien in annonces:\n",
    "    lien_annonce = lien.get_attribute('href')\n",
    "    liste_liens.append(lien_annonce)\n",
    "    print(lien_annonce)\n",
    "\n",
    "driver.quit()\n",
    "\n"
   ]
  },
  {
   "cell_type": "code",
   "execution_count": 14,
   "metadata": {},
   "outputs": [
    {
     "data": {
      "text/plain": [
       "str"
      ]
     },
     "execution_count": 14,
     "metadata": {},
     "output_type": "execute_result"
    }
   ],
   "source": [
    "type(liste_liens[0])"
   ]
  },
  {
   "cell_type": "code",
   "execution_count": 44,
   "metadata": {},
   "outputs": [
    {
     "name": "stdout",
     "output_type": "stream",
     "text": [
      "\n"
     ]
    }
   ],
   "source": [
    "from selenium.webdriver.common.by import By\n",
    "from selenium.webdriver.support.ui import WebDriverWait\n",
    "from selenium.webdriver.support import expected_conditions as EC\n",
    "\n",
    "url_annonce = liste_liens[0]\n",
    "results = pd.DataFrame()\n",
    "\n",
    "l=[]\n",
    "options = uc.ChromeOptions()\n",
    "driver = uc.Chrome(options=options)\n",
    "driver.get(url_annonce)\n",
    "\n",
    "#Titre de l'annonce:\n",
    "#titres_annonces = driver.find_elements(By.XPATH, '//div[@class=\"Summarystyled__Title-sc-1u9xobv-4 dbveQQ\"]')[0].text\n",
    "#l.append(titres_annonces)\n",
    "\n",
    "#Prix:\n",
    "#prix = driver.find_elements(By.XPATH, '//span[@class=\"global-styles__TextNoWrap-sc-1gbe8ip-6 gxurQr\"]')[1].text #à voir si c'est toujours la 2e span \n",
    "#l.append(prix)\n",
    "\n",
    "#Autres infos:\n",
    "#Ordre: Nb pièces, (Nb chambres), Surface, Nb etages, Balcon, Terasse, Jardin, Garage, Ascenceur, Piscine  ?Parking?\n",
    "# autres_infos_WebElement = driver.find_elements(By.XPATH, '//div[@class=\"Tags__TagContainer-sc-edpl7u-0 EPxew\"]')\n",
    "# autres_infos = [element.text for element in autres_infos_WebElement]\n",
    "# l.append(autres_infos)\n",
    "\n",
    "#Quartier:\n",
    "# quartier = driver.find_elements(By.XPATH, '//span[@data-test=\"neighbourhood\"]')[0].text\n",
    "#l.append(quartier)\n",
    "\n",
    "#Ville + code postal:\n",
    "# ville_cp = driver.find_elements(By.XPATH, '//span[@class=\"Localizationstyled__City-sc-gdkcr2-1 bgtLnh\"]')[0].text\n",
    "# print(ville_cp)\n",
    "# l.append(ville_cp)\n",
    "\n",
    "#Description:\n",
    "#Renvoie une liste vide, à creuser\n",
    "\n",
    "#Caractéristiques:\n",
    "\n",
    "\n",
    "\n",
    "\n",
    "driver.quit()\n",
    "\n",
    "\n",
    "\n",
    "\n",
    "\n"
   ]
  },
  {
   "cell_type": "code",
   "execution_count": 42,
   "metadata": {},
   "outputs": [
    {
     "data": {
      "text/plain": [
       "''"
      ]
     },
     "execution_count": 42,
     "metadata": {},
     "output_type": "execute_result"
    }
   ],
   "source": [
    "p_element_text"
   ]
  }
 ],
 "metadata": {
  "kernelspec": {
   "display_name": "scrapenv",
   "language": "python",
   "name": "python3"
  },
  "language_info": {
   "codemirror_mode": {
    "name": "ipython",
    "version": 3
   },
   "file_extension": ".py",
   "mimetype": "text/x-python",
   "name": "python",
   "nbconvert_exporter": "python",
   "pygments_lexer": "ipython3",
   "version": "3.9.18"
  }
 },
 "nbformat": 4,
 "nbformat_minor": 2
}
