{
 "cells": [
  {
   "cell_type": "code",
   "execution_count": 1,
   "metadata": {},
   "outputs": [],
   "source": [
    "import undetected_chromedriver as uc \n",
    "import os\n",
    "import pandas as pd\n",
    "from bs4 import BeautifulSoup\n",
    "import time\n",
    "from selenium.webdriver.common.by import By"
   ]
  },
  {
   "cell_type": "code",
   "execution_count": 2,
   "metadata": {},
   "outputs": [
    {
     "name": "stdout",
     "output_type": "stream",
     "text": [
      "https://www.seloger.com/annonces/locations/appartement/paris-1er-75/seine-et-berges/162852333.htm?projects=1&types=2,1&places=[{%22inseeCodes%22:[750056]}]&mandatorycommodities=0&privateseller=1&enterprise=0&qsVersion=1.0&m=search_to_detail&lv=S\n",
      "https://www.seloger.com/annonces/locations/appartement/paris-8eme-75/parc-monceau/166978385.htm?projects=1&types=2,1&places=[{%22inseeCodes%22:[750056]}]&mandatorycommodities=0&privateseller=1&enterprise=0&qsVersion=1.0&m=search_to_detail&lv=S\n",
      "https://www.seloger.com/annonces/locations/appartement/paris-18eme-75/montmartre/167290247.htm?projects=1&types=2,1&places=[{%22inseeCodes%22:[750056]}]&mandatorycommodities=0&privateseller=1&enterprise=0&qsVersion=1.0&m=search_to_detail&lv=S\n",
      "https://www.seloger.com/annonces/locations/appartement/paris-16eme-75/auteuil-sud/166959135.htm?projects=1&types=2,1&places=[{%22inseeCodes%22:[750056]}]&mandatorycommodities=0&privateseller=1&enterprise=0&qsVersion=1.0&m=search_to_detail&lv=S\n",
      "https://www.seloger.com/annonces/locations/appartement/paris-10eme-75/faubourg-du-temple-hopital-saint-louis/190230425.htm?projects=1&types=2,1&places=[{%22inseeCodes%22:[750056]}]&mandatorycommodities=0&privateseller=1&enterprise=0&qsVersion=1.0&m=search_to_detail&lv=S\n",
      "https://www.seloger.com/annonces/locations/appartement/paris-18eme-75/goutte-d-or-chateau-rouge/190821785.htm?projects=1&types=2,1&places=[{%22inseeCodes%22:[750056]}]&mandatorycommodities=0&privateseller=1&enterprise=0&qsVersion=1.0&m=search_to_detail&lv=S\n",
      "https://www.seloger.com/annonces/locations/appartement/paris-18eme-75/grandes-carrieres-clichy/188865473.htm?projects=1&types=2,1&places=[{%22inseeCodes%22:[750056]}]&mandatorycommodities=0&privateseller=1&enterprise=0&qsVersion=1.0&m=search_to_detail&lv=S\n",
      "https://www.seloger.com/annonces/locations/appartement/paris-5eme-75/val-de-grace/195694785.htm?projects=1&types=2,1&places=[{%22inseeCodes%22:[750056]}]&mandatorycommodities=0&privateseller=1&enterprise=0&qsVersion=1.0&m=search_to_detail&lv=S\n",
      "https://www.seloger.com/annonces/locations/appartement/paris-14eme-75/jean-moulin-porte-d-orleans/197537911.htm?projects=1&types=2,1&places=[{%22inseeCodes%22:[750056]}]&mandatorycommodities=0&privateseller=1&enterprise=0&qsVersion=1.0&m=search_to_detail&lv=S\n",
      "https://www.bellesdemeures.com/annonces/location/tt-1-tb-1-pl-48514/213930759/?projects=1&types=2,1&places=[{%22inseeCodes%22:[750056]}]&mandatorycommodities=0&privateseller=1&enterprise=0&qsVersion=1.0#?cmp=INTSL_ListToDetail\n",
      "https://www.seloger.com/annonces/locations/appartement/paris-15eme-75/vaugirard-parc-des-expositions/198288777.htm?projects=1&types=2,1&places=[{%22inseeCodes%22:[750056]}]&mandatorycommodities=0&privateseller=1&enterprise=0&qsVersion=1.0&m=search_to_detail&lv=S\n",
      "https://www.seloger.com/annonces/locations/appartement/paris-18eme-75/amiraux-simplon-poissonniers/198397907.htm?projects=1&types=2,1&places=[{%22inseeCodes%22:[750056]}]&mandatorycommodities=0&privateseller=1&enterprise=0&qsVersion=1.0&m=search_to_detail&lv=S\n",
      "https://www.seloger.com/annonces/locations/appartement/paris-16eme-75/muette-nord/206599603.htm?projects=1&types=2,1&places=[{%22inseeCodes%22:[750056]}]&mandatorycommodities=0&privateseller=1&enterprise=0&qsVersion=1.0&m=search_to_detail&lv=S\n",
      "https://www.seloger.com/annonces/locations/appartement/paris-5eme-75/val-de-grace/208043695.htm?projects=1&types=2,1&places=[{%22inseeCodes%22:[750056]}]&mandatorycommodities=0&privateseller=1&enterprise=0&qsVersion=1.0&m=search_to_detail&lv=S\n",
      "https://www.seloger.com/annonces/locations/appartement/paris-17eme-75/ternes-maillot/207290963.htm?projects=1&types=2,1&places=[{%22inseeCodes%22:[750056]}]&mandatorycommodities=0&privateseller=1&enterprise=0&qsVersion=1.0&m=search_to_detail&lv=S\n",
      "https://www.seloger.com/annonces/locations/appartement/paris-18eme-75/clignancourt-jules-joffrin/205324819.htm?projects=1&types=2,1&places=[{%22inseeCodes%22:[750056]}]&mandatorycommodities=0&privateseller=1&enterprise=0&qsVersion=1.0&m=search_to_detail&lv=S\n",
      "https://www.seloger.com/annonces/locations/appartement/paris-13eme-75/buttes-aux-cailles-glaciere/189429383.htm?projects=1&types=2,1&places=[{%22inseeCodes%22:[750056]}]&mandatorycommodities=0&privateseller=1&enterprise=0&qsVersion=1.0&m=search_to_detail&lv=S\n",
      "https://www.seloger.com/annonces/locations/appartement/paris-16eme-75/chaillot/205667879.htm?projects=1&types=2,1&places=[{%22inseeCodes%22:[750056]}]&mandatorycommodities=0&privateseller=1&enterprise=0&qsVersion=1.0&m=search_to_detail&lv=S\n",
      "https://www.seloger.com/annonces/locations/appartement/paris-12eme-75/aligre-gare-de-lyon/211752589.htm?projects=1&types=2,1&places=[{%22inseeCodes%22:[750056]}]&mandatorycommodities=0&privateseller=1&enterprise=0&qsVersion=1.0&m=search_to_detail&lv=S\n",
      "https://www.seloger.com/annonces/locations/appartement/paris-17eme-75/champerret-berthier/213486115.htm?projects=1&types=2,1&places=[{%22inseeCodes%22:[750056]}]&mandatorycommodities=0&privateseller=1&enterprise=0&qsVersion=1.0&m=search_to_detail&lv=S\n",
      "https://www.seloger.com/annonces/locations/appartement/paris-5eme-75/val-de-grace/213521869.htm?projects=1&types=2,1&places=[{%22inseeCodes%22:[750056]}]&mandatorycommodities=0&privateseller=1&enterprise=0&qsVersion=1.0&m=search_to_detail&lv=S\n",
      "https://www.seloger.com/annonces/locations/appartement/paris-11eme-75/republique-saint-ambroise/213638301.htm?projects=1&types=2,1&places=[{%22inseeCodes%22:[750056]}]&mandatorycommodities=0&privateseller=1&enterprise=0&qsVersion=1.0&m=search_to_detail&lv=S\n",
      "https://www.seloger.com/annonces/locations/appartement/saint-ouen-93/marie-godillot-landy/211681409.htm?projects=1&types=2,1&places=[{%22inseeCodes%22:[750056]}]&mandatorycommodities=0&privateseller=1&enterprise=0&qsVersion=1.0&m=search_to_detail_boost_extend&lv=L\n",
      "https://www.seloger.com/annonces/locations/appartement/paris-5eme-75/val-de-grace/214074147.htm?projects=1&types=2,1&places=[{%22inseeCodes%22:[750056]}]&mandatorycommodities=0&privateseller=1&enterprise=0&qsVersion=1.0&m=search_to_detail&lv=S\n",
      "https://www.seloger.com/annonces/locations/appartement/paris-18eme-75/la-chapelle-marx-dormoy/211766523.htm?projects=1&types=2,1&places=[{%22inseeCodes%22:[750056]}]&mandatorycommodities=0&privateseller=1&enterprise=0&qsVersion=1.0&m=search_to_detail&lv=S\n",
      "https://www.seloger.com/annonces/locations/appartement/paris-9eme-75/lorette-martyrs/212257327.htm?projects=1&types=2,1&places=[{%22inseeCodes%22:[750056]}]&mandatorycommodities=0&privateseller=1&enterprise=0&qsVersion=1.0&m=search_to_detail&lv=S\n",
      "https://www.seloger.com/annonces/locations/appartement/paris-17eme-75/pereire-malesherbes/209348151.htm?projects=1&types=2,1&places=[{%22inseeCodes%22:[750056]}]&mandatorycommodities=0&privateseller=1&enterprise=0&qsVersion=1.0&m=search_to_detail&lv=S\n"
     ]
    }
   ],
   "source": [
    "\"\"\" Test avec Seloger\"\"\"\n",
    "pages = []\n",
    "\n",
    "\n",
    "## Set Chrome Options\n",
    "options = uc.ChromeOptions()\n",
    "#options.headless=True\n",
    "#options.add_argument('--headless')\n",
    "#options.add_argument(f'--proxy-server={PROXY}')\n",
    "#options.add_argument(f\"user-agent={my_user_agent}\")\n",
    "\n",
    "## Create Undetected Chromedriver with Proxy\n",
    "driver = uc.Chrome(options=options)\n",
    "\n",
    "\n",
    "url = \"https://www.seloger.com/list.htm?projects=1&types=2%2C1&places=%5B%7B%22inseeCodes%22%3A%5B750056%5D%7D%5D&mandatorycommodities=0&privateseller=1&enterprise=0&qsVersion=1.0&LISTING-LISTpg=1\"\n",
    "## Send Request\n",
    "driver.get(url)\n",
    "annonces = driver.find_elements(By.XPATH, '//a[@data-testid=\"sl.explore.coveringLink\"]')\n",
    "liste_liens = []\n",
    "# Récupérez les liens des annonces\n",
    "for lien in annonces:\n",
    "    lien_annonce = lien.get_attribute('href')\n",
    "    liste_liens.append(lien_annonce)\n",
    "    print(lien_annonce)\n",
    "\n",
    "driver.quit()\n",
    "\n"
   ]
  },
  {
   "cell_type": "code",
   "execution_count": 3,
   "metadata": {},
   "outputs": [
    {
     "data": {
      "text/plain": [
       "'https://www.seloger.com/annonces/locations/appartement/paris-1er-75/seine-et-berges/162852333.htm?projects=1&types=2,1&places=[{%22inseeCodes%22:[750056]}]&mandatorycommodities=0&privateseller=1&enterprise=0&qsVersion=1.0&m=search_to_detail&lv=S'"
      ]
     },
     "execution_count": 3,
     "metadata": {},
     "output_type": "execute_result"
    }
   ],
   "source": [
    "liste_liens[0]"
   ]
  },
  {
   "cell_type": "code",
   "execution_count": 49,
   "metadata": {},
   "outputs": [
    {
     "name": "stdout",
     "output_type": "stream",
     "text": [
      "Could not click 'Voir toutes les caractéristiques' button: Message: no such element: Unable to locate element: {\"method\":\"xpath\",\"selector\":\"//button[@data-test='show-detail-feature-button-desktop']\"}\n",
      "  (Session info: chrome=120.0.6099.234); For documentation on this error, please visit: https://www.selenium.dev/documentation/webdriver/troubleshooting/errors#no-such-element-exception\n",
      "Stacktrace:\n",
      "0   undetected_chromedriver             0x0000000100b5acc8 undetected_chromedriver + 4844744\n",
      "1   undetected_chromedriver             0x0000000100b52243 undetected_chromedriver + 4809283\n",
      "2   undetected_chromedriver             0x000000010072077d undetected_chromedriver + 411517\n",
      "3   undetected_chromedriver             0x0000000100770ee0 undetected_chromedriver + 741088\n",
      "4   undetected_chromedriver             0x0000000100771091 undetected_chromedriver + 741521\n",
      "5   undetected_chromedriver             0x00000001007bcab4 undetected_chromedriver + 1051316\n",
      "6   undetected_chromedriver             0x000000010079aced undetected_chromedriver + 912621\n",
      "7   undetected_chromedriver             0x00000001007b9d42 undetected_chromedriver + 1039682\n",
      "8   undetected_chromedriver             0x000000010079aa63 undetected_chromedriver + 911971\n",
      "9   undetected_chromedriver             0x00000001007621b3 undetected_chromedriver + 680371\n",
      "10  undetected_chromedriver             0x00000001007637ce undetected_chromedriver + 686030\n",
      "11  undetected_chromedriver             0x0000000100b1a642 undetected_chromedriver + 4580930\n",
      "12  undetected_chromedriver             0x0000000100b1f9cc undetected_chromedriver + 4602316\n",
      "13  undetected_chromedriver             0x0000000100affe11 undetected_chromedriver + 4472337\n",
      "14  undetected_chromedriver             0x0000000100b20746 undetected_chromedriver + 4605766\n",
      "15  undetected_chromedriver             0x0000000100af139c undetected_chromedriver + 4412316\n",
      "16  undetected_chromedriver             0x0000000100b40868 undetected_chromedriver + 4737128\n",
      "17  undetected_chromedriver             0x0000000100b40a1e undetected_chromedriver + 4737566\n",
      "18  undetected_chromedriver             0x0000000100b51e83 undetected_chromedriver + 4808323\n",
      "19  libsystem_pthread.dylib             0x00007ff8115dd259 _pthread_start + 125\n",
      "20  libsystem_pthread.dylib             0x00007ff8115d8c7b thread_start + 15\n",
      "\n"
     ]
    }
   ],
   "source": [
    "from selenium.webdriver.common.by import By\n",
    "from selenium.webdriver.support.ui import WebDriverWait\n",
    "from selenium.webdriver.support import expected_conditions as EC\n",
    "from selenium.common.exceptions import NoSuchElementException\n",
    "\n",
    "url_annonce = liste_liens[2]\n",
    "df = pd.DataFrame()\n",
    "options = uc.ChromeOptions()\n",
    "driver = uc.Chrome(options=options)\n",
    "driver.get(url_annonce)\n",
    "\n",
    "\n",
    "\n",
    "\n",
    "\n",
    "try:\n",
    "    # Utilisez une attente explicite pour attendre que la page accepter les cookies s'affiche\n",
    "    continuer_sans_accepter_button = WebDriverWait(driver, 100).until(\n",
    "        EC.presence_of_all_elements_located((By.XPATH, \"//span[@class='didomi-continue-without-agreeing']\"))\n",
    "    )\n",
    "\n",
    "    #Continue sans accepter les cookies\n",
    "    continuer_sans_accepter_button[0].click()\n",
    "\n",
    "    # Wait a bit for the text to fully load after clicking\n",
    "    time.sleep(2)\n",
    "        \n",
    "except Exception as e:\n",
    "    print(f\"Could not click 'Continuer sans accepter button: {e}\")\n",
    "\n",
    "\n",
    "try: \n",
    "    voir_tout_button = driver.find_element(By.XPATH, \"//button[@data-test='show-detail-feature-button-desktop']\")\n",
    "    voir_tout_button.click()\n",
    "    time.sleep(1)\n",
    "\n",
    "except Exception as e:\n",
    "    print(f\"Could not click 'Voir toutes les caractéristiques' button: {e}\")\n",
    "\n",
    "#Titre de l'annonce:\n",
    "titre_annonce = driver.find_elements(By.XPATH, '//div[@class=\"Summarystyled__Title-sc-1u9xobv-4 dbveQQ\"]')[0].text\n",
    "titre_annonce_dict = {\"Titre de l'annonce\" : titre_annonce}\n",
    "\n",
    "#Prix:\n",
    "prix = driver.find_elements(By.XPATH, '//span[@class=\"global-styles__TextNoWrap-sc-1gbe8ip-6 gxurQr\"]')[1].text #à voir si c'est toujours la 2e span \n",
    "df[\"Prix\"] = prix\n",
    "\n",
    "#Autres infos:\n",
    "#Ordre: Nb pièces, (Nb chambres), Surface, Nb etages, Balcon, Terasse, Jardin, Garage, Ascenceur, Piscine  ?Parking?\n",
    "autres_infos_WebElement = driver.find_elements(By.XPATH, '//div[@class=\"Tags__TagContainer-sc-edpl7u-0 EPxew\"]')\n",
    "autres_infos = [element.text for element in autres_infos_WebElement]\n",
    "df[\"Autres Infos\"] = \", \".join(autres_infos)\n",
    "\n",
    "#Quartier:\n",
    "quartier = driver.find_elements(By.XPATH, '//span[@data-test=\"neighbourhood\"]')[0].text\n",
    "df[\"Quartier\"] = quartier\n",
    "\n",
    "#Ville + code postal:\n",
    "ville_cp = driver.find_elements(By.XPATH, '//span[@class=\"Localizationstyled__City-sc-gdkcr2-1 bgtLnh\"]')[0].text\n",
    "df[\"Ville et CP\"] = ville_cp\n",
    "\n",
    "\n",
    "#Description:\n",
    "description = driver.find_elements(By.XPATH, \"//div[@class='ShowMoreText__UITextContainer-sc-1swit84-0 fDeZMv']\")[0].text\n",
    "df[\"Description\"] = description\n",
    "\n",
    "#Caractéristiques:\n",
    "#Récupère les blocs de caractéristiques (ex: Extérieur, Cadre et situation...)\n",
    "blocs_caract = driver.find_elements(By.CSS_SELECTOR, \"div.TitledDescription__TitledDescriptionContainer-sc-p0zomi-0\")\n",
    "\n",
    "\n",
    "for bloc in blocs_caract:\n",
    "    titre_caract_l = bloc.find_elements(By.CSS_SELECTOR, \"div.feature-title\") \n",
    "    if not titre_caract_l: #Vérifie si titre_caract est vide\n",
    "        continue\n",
    "    titre_caract = titre_caract_l[0].text #Récupère le titre des caractéristiques\n",
    "    caract_list = bloc.find_elements(By.CSS_SELECTOR, \"div.GeneralFeaturesstyled__TextWrapper-sc-1ia09m5-3\")\n",
    "    df[titre_caract] = \", \".join([caract.text for caract in caract_list])\n",
    "\n",
    "\n",
    "\n",
    "driver.quit()\n",
    "\n",
    "\n",
    "\n",
    "\n",
    "\n"
   ]
  },
  {
   "cell_type": "code",
   "execution_count": 50,
   "metadata": {},
   "outputs": [
    {
     "data": {
      "text/html": [
       "<div>\n",
       "<style scoped>\n",
       "    .dataframe tbody tr th:only-of-type {\n",
       "        vertical-align: middle;\n",
       "    }\n",
       "\n",
       "    .dataframe tbody tr th {\n",
       "        vertical-align: top;\n",
       "    }\n",
       "\n",
       "    .dataframe thead th {\n",
       "        text-align: right;\n",
       "    }\n",
       "</style>\n",
       "<table border=\"1\" class=\"dataframe\">\n",
       "  <thead>\n",
       "    <tr style=\"text-align: right;\">\n",
       "      <th></th>\n",
       "      <th>Titre de l'annonce</th>\n",
       "    </tr>\n",
       "  </thead>\n",
       "  <tbody>\n",
       "  </tbody>\n",
       "</table>\n",
       "</div>"
      ],
      "text/plain": [
       "Empty DataFrame\n",
       "Columns: [Titre de l'annonce]\n",
       "Index: []"
      ]
     },
     "execution_count": 50,
     "metadata": {},
     "output_type": "execute_result"
    }
   ],
   "source": [
    "df"
   ]
  }
 ],
 "metadata": {
  "kernelspec": {
   "display_name": "scrapenv",
   "language": "python",
   "name": "python3"
  },
  "language_info": {
   "codemirror_mode": {
    "name": "ipython",
    "version": 3
   },
   "file_extension": ".py",
   "mimetype": "text/x-python",
   "name": "python",
   "nbconvert_exporter": "python",
   "pygments_lexer": "ipython3",
   "version": "3.9.18"
  }
 },
 "nbformat": 4,
 "nbformat_minor": 2
}
