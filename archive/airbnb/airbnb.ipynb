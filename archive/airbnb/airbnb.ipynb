{
 "cells": [
  {
   "cell_type": "code",
   "execution_count": 1,
   "metadata": {},
   "outputs": [],
   "source": [
    "import undetected_chromedriver as uc \n",
    "import os\n",
    "import pandas as pd\n",
    "from bs4 import BeautifulSoup\n",
    "import time\n",
    "from selenium.webdriver.common.by import By"
   ]
  },
  {
   "cell_type": "code",
   "execution_count": 2,
   "metadata": {},
   "outputs": [
    {
     "ename": "WebDriverException",
     "evalue": "Message: unknown error: cannot connect to chrome at 127.0.0.1:60861\nfrom session not created: This version of ChromeDriver only supports Chrome version 122\nCurrent browser version is 121.0.6167.184\nStacktrace:\n0   undetected_chromedriver             0x00000001009acdf8 undetected_chromedriver + 4627960\n1   undetected_chromedriver             0x00000001009a4b23 undetected_chromedriver + 4594467\n2   undetected_chromedriver             0x00000001005a2e4a undetected_chromedriver + 392778\n3   undetected_chromedriver             0x00000001005ddf91 undetected_chromedriver + 634769\n4   undetected_chromedriver             0x00000001005dd0d3 undetected_chromedriver + 630995\n5   undetected_chromedriver             0x00000001005d3a66 undetected_chromedriver + 592486\n6   undetected_chromedriver             0x000000010061d6fa undetected_chromedriver + 894714\n7   undetected_chromedriver             0x0000000100610613 undetected_chromedriver + 841235\n8   undetected_chromedriver             0x00000001005e13da undetected_chromedriver + 648154\n9   undetected_chromedriver             0x00000001005e1d1e undetected_chromedriver + 650526\n10  undetected_chromedriver             0x000000010096c870 undetected_chromedriver + 4364400\n11  undetected_chromedriver             0x0000000100971c21 undetected_chromedriver + 4385825\n12  undetected_chromedriver             0x0000000100951b0e undetected_chromedriver + 4254478\n13  undetected_chromedriver             0x0000000100972949 undetected_chromedriver + 4389193\n14  undetected_chromedriver             0x0000000100943e49 undetected_chromedriver + 4197961\n15  undetected_chromedriver             0x0000000100993b58 undetected_chromedriver + 4524888\n16  undetected_chromedriver             0x0000000100993d37 undetected_chromedriver + 4525367\n17  undetected_chromedriver             0x00000001009a4763 undetected_chromedriver + 4593507\n18  libsystem_pthread.dylib             0x00007ff8083f5259 _pthread_start + 125\n19  libsystem_pthread.dylib             0x00007ff8083f0c7b thread_start + 15\n",
     "output_type": "error",
     "traceback": [
      "\u001b[0;31m---------------------------------------------------------------------------\u001b[0m",
      "\u001b[0;31mWebDriverException\u001b[0m                        Traceback (most recent call last)",
      "Cell \u001b[0;32mIn[2], line 9\u001b[0m\n\u001b[1;32m      6\u001b[0m options \u001b[38;5;241m=\u001b[39m uc\u001b[38;5;241m.\u001b[39mChromeOptions()\n\u001b[1;32m      8\u001b[0m \u001b[38;5;66;03m## Create Undetected Chromedriver with Proxy\u001b[39;00m\n\u001b[0;32m----> 9\u001b[0m driver \u001b[38;5;241m=\u001b[39m \u001b[43muc\u001b[49m\u001b[38;5;241;43m.\u001b[39;49m\u001b[43mChrome\u001b[49m\u001b[43m(\u001b[49m\u001b[43moptions\u001b[49m\u001b[38;5;241;43m=\u001b[39;49m\u001b[43moptions\u001b[49m\u001b[43m)\u001b[49m\n\u001b[1;32m     12\u001b[0m \u001b[38;5;66;03m## Recupere l'url des annonces sur la page\u001b[39;00m\n\u001b[1;32m     13\u001b[0m url \u001b[38;5;241m=\u001b[39m \u001b[38;5;124m\"\u001b[39m\u001b[38;5;124mhttps://www.airbnb.fr/s/Strasbourg--France/homes?tab_id=home_tab&refinement_paths\u001b[39m\u001b[38;5;124m%\u001b[39m\u001b[38;5;124m5B\u001b[39m\u001b[38;5;124m%\u001b[39m\u001b[38;5;124m5D=\u001b[39m\u001b[38;5;132;01m%2F\u001b[39;00m\u001b[38;5;124mhomes&flexible_trip_lengths\u001b[39m\u001b[38;5;124m%\u001b[39m\u001b[38;5;124m5B\u001b[39m\u001b[38;5;124m%\u001b[39m\u001b[38;5;124m5D=one_week&monthly_start_date=2024-03-01&monthly_length=3&monthly_end_date=2024-06-01&price_filter_input_type=0&channel=EXPLORE&query=Strasbourg\u001b[39m\u001b[38;5;124m%\u001b[39m\u001b[38;5;124m2C\u001b[39m\u001b[38;5;132;01m%20F\u001b[39;00m\u001b[38;5;124mrance&place_id=ChIJwbIYXknIlkcRHyTnGDFIGpc&date_picker_type=calendar&source=structured_search_input_header&search_type=filter_change&price_filter_num_nights=5&flexible_date_search_filter_type=2&checkin=2024-02-25&checkout=2024-02-26\u001b[39m\u001b[38;5;124m\"\u001b[39m\n",
      "File \u001b[0;32m~/opt/anaconda3/envs/scrapenv/lib/python3.9/site-packages/undetected_chromedriver/__init__.py:466\u001b[0m, in \u001b[0;36mChrome.__init__\u001b[0;34m(self, options, user_data_dir, driver_executable_path, browser_executable_path, port, enable_cdp_events, desired_capabilities, advanced_elements, keep_alive, log_level, headless, version_main, patcher_force_close, suppress_welcome, use_subprocess, debug, no_sandbox, user_multi_procs, **kw)\u001b[0m\n\u001b[1;32m    459\u001b[0m     \u001b[38;5;28mself\u001b[39m\u001b[38;5;241m.\u001b[39mbrowser_pid \u001b[38;5;241m=\u001b[39m browser\u001b[38;5;241m.\u001b[39mpid\n\u001b[1;32m    462\u001b[0m service \u001b[38;5;241m=\u001b[39m selenium\u001b[38;5;241m.\u001b[39mwebdriver\u001b[38;5;241m.\u001b[39mchromium\u001b[38;5;241m.\u001b[39mservice\u001b[38;5;241m.\u001b[39mChromiumService(\n\u001b[1;32m    463\u001b[0m     \u001b[38;5;28mself\u001b[39m\u001b[38;5;241m.\u001b[39mpatcher\u001b[38;5;241m.\u001b[39mexecutable_path\n\u001b[1;32m    464\u001b[0m )\n\u001b[0;32m--> 466\u001b[0m \u001b[38;5;28;43msuper\u001b[39;49m\u001b[43m(\u001b[49m\u001b[43mChrome\u001b[49m\u001b[43m,\u001b[49m\u001b[43m \u001b[49m\u001b[38;5;28;43mself\u001b[39;49m\u001b[43m)\u001b[49m\u001b[38;5;241;43m.\u001b[39;49m\u001b[38;5;21;43m__init__\u001b[39;49m\u001b[43m(\u001b[49m\n\u001b[1;32m    467\u001b[0m \u001b[43m    \u001b[49m\u001b[43mservice\u001b[49m\u001b[38;5;241;43m=\u001b[39;49m\u001b[43mservice\u001b[49m\u001b[43m,\u001b[49m\n\u001b[1;32m    468\u001b[0m \u001b[43m    \u001b[49m\u001b[43moptions\u001b[49m\u001b[38;5;241;43m=\u001b[39;49m\u001b[43moptions\u001b[49m\u001b[43m,\u001b[49m\n\u001b[1;32m    469\u001b[0m \u001b[43m    \u001b[49m\u001b[43mkeep_alive\u001b[49m\u001b[38;5;241;43m=\u001b[39;49m\u001b[43mkeep_alive\u001b[49m\u001b[43m,\u001b[49m\n\u001b[1;32m    470\u001b[0m \u001b[43m\u001b[49m\u001b[43m)\u001b[49m\n\u001b[1;32m    472\u001b[0m \u001b[38;5;28mself\u001b[39m\u001b[38;5;241m.\u001b[39mreactor \u001b[38;5;241m=\u001b[39m \u001b[38;5;28;01mNone\u001b[39;00m\n\u001b[1;32m    474\u001b[0m \u001b[38;5;28;01mif\u001b[39;00m enable_cdp_events:\n",
      "File \u001b[0;32m~/opt/anaconda3/envs/scrapenv/lib/python3.9/site-packages/selenium/webdriver/chrome/webdriver.py:45\u001b[0m, in \u001b[0;36mWebDriver.__init__\u001b[0;34m(self, options, service, keep_alive)\u001b[0m\n\u001b[1;32m     42\u001b[0m service \u001b[38;5;241m=\u001b[39m service \u001b[38;5;28;01mif\u001b[39;00m service \u001b[38;5;28;01melse\u001b[39;00m Service()\n\u001b[1;32m     43\u001b[0m options \u001b[38;5;241m=\u001b[39m options \u001b[38;5;28;01mif\u001b[39;00m options \u001b[38;5;28;01melse\u001b[39;00m Options()\n\u001b[0;32m---> 45\u001b[0m \u001b[38;5;28;43msuper\u001b[39;49m\u001b[43m(\u001b[49m\u001b[43m)\u001b[49m\u001b[38;5;241;43m.\u001b[39;49m\u001b[38;5;21;43m__init__\u001b[39;49m\u001b[43m(\u001b[49m\n\u001b[1;32m     46\u001b[0m \u001b[43m    \u001b[49m\u001b[43mbrowser_name\u001b[49m\u001b[38;5;241;43m=\u001b[39;49m\u001b[43mDesiredCapabilities\u001b[49m\u001b[38;5;241;43m.\u001b[39;49m\u001b[43mCHROME\u001b[49m\u001b[43m[\u001b[49m\u001b[38;5;124;43m\"\u001b[39;49m\u001b[38;5;124;43mbrowserName\u001b[39;49m\u001b[38;5;124;43m\"\u001b[39;49m\u001b[43m]\u001b[49m\u001b[43m,\u001b[49m\n\u001b[1;32m     47\u001b[0m \u001b[43m    \u001b[49m\u001b[43mvendor_prefix\u001b[49m\u001b[38;5;241;43m=\u001b[39;49m\u001b[38;5;124;43m\"\u001b[39;49m\u001b[38;5;124;43mgoog\u001b[39;49m\u001b[38;5;124;43m\"\u001b[39;49m\u001b[43m,\u001b[49m\n\u001b[1;32m     48\u001b[0m \u001b[43m    \u001b[49m\u001b[43moptions\u001b[49m\u001b[38;5;241;43m=\u001b[39;49m\u001b[43moptions\u001b[49m\u001b[43m,\u001b[49m\n\u001b[1;32m     49\u001b[0m \u001b[43m    \u001b[49m\u001b[43mservice\u001b[49m\u001b[38;5;241;43m=\u001b[39;49m\u001b[43mservice\u001b[49m\u001b[43m,\u001b[49m\n\u001b[1;32m     50\u001b[0m \u001b[43m    \u001b[49m\u001b[43mkeep_alive\u001b[49m\u001b[38;5;241;43m=\u001b[39;49m\u001b[43mkeep_alive\u001b[49m\u001b[43m,\u001b[49m\n\u001b[1;32m     51\u001b[0m \u001b[43m\u001b[49m\u001b[43m)\u001b[49m\n",
      "File \u001b[0;32m~/opt/anaconda3/envs/scrapenv/lib/python3.9/site-packages/selenium/webdriver/chromium/webdriver.py:61\u001b[0m, in \u001b[0;36mChromiumDriver.__init__\u001b[0;34m(self, browser_name, vendor_prefix, options, service, keep_alive)\u001b[0m\n\u001b[1;32m     52\u001b[0m executor \u001b[38;5;241m=\u001b[39m ChromiumRemoteConnection(\n\u001b[1;32m     53\u001b[0m     remote_server_addr\u001b[38;5;241m=\u001b[39m\u001b[38;5;28mself\u001b[39m\u001b[38;5;241m.\u001b[39mservice\u001b[38;5;241m.\u001b[39mservice_url,\n\u001b[1;32m     54\u001b[0m     browser_name\u001b[38;5;241m=\u001b[39mbrowser_name,\n\u001b[0;32m   (...)\u001b[0m\n\u001b[1;32m     57\u001b[0m     ignore_proxy\u001b[38;5;241m=\u001b[39moptions\u001b[38;5;241m.\u001b[39m_ignore_local_proxy,\n\u001b[1;32m     58\u001b[0m )\n\u001b[1;32m     60\u001b[0m \u001b[38;5;28;01mtry\u001b[39;00m:\n\u001b[0;32m---> 61\u001b[0m     \u001b[38;5;28;43msuper\u001b[39;49m\u001b[43m(\u001b[49m\u001b[43m)\u001b[49m\u001b[38;5;241;43m.\u001b[39;49m\u001b[38;5;21;43m__init__\u001b[39;49m\u001b[43m(\u001b[49m\u001b[43mcommand_executor\u001b[49m\u001b[38;5;241;43m=\u001b[39;49m\u001b[43mexecutor\u001b[49m\u001b[43m,\u001b[49m\u001b[43m \u001b[49m\u001b[43moptions\u001b[49m\u001b[38;5;241;43m=\u001b[39;49m\u001b[43moptions\u001b[49m\u001b[43m)\u001b[49m\n\u001b[1;32m     62\u001b[0m \u001b[38;5;28;01mexcept\u001b[39;00m \u001b[38;5;167;01mException\u001b[39;00m:\n\u001b[1;32m     63\u001b[0m     \u001b[38;5;28mself\u001b[39m\u001b[38;5;241m.\u001b[39mquit()\n",
      "File \u001b[0;32m~/opt/anaconda3/envs/scrapenv/lib/python3.9/site-packages/selenium/webdriver/remote/webdriver.py:209\u001b[0m, in \u001b[0;36mWebDriver.__init__\u001b[0;34m(self, command_executor, keep_alive, file_detector, options)\u001b[0m\n\u001b[1;32m    207\u001b[0m \u001b[38;5;28mself\u001b[39m\u001b[38;5;241m.\u001b[39m_authenticator_id \u001b[38;5;241m=\u001b[39m \u001b[38;5;28;01mNone\u001b[39;00m\n\u001b[1;32m    208\u001b[0m \u001b[38;5;28mself\u001b[39m\u001b[38;5;241m.\u001b[39mstart_client()\n\u001b[0;32m--> 209\u001b[0m \u001b[38;5;28;43mself\u001b[39;49m\u001b[38;5;241;43m.\u001b[39;49m\u001b[43mstart_session\u001b[49m\u001b[43m(\u001b[49m\u001b[43mcapabilities\u001b[49m\u001b[43m)\u001b[49m\n",
      "File \u001b[0;32m~/opt/anaconda3/envs/scrapenv/lib/python3.9/site-packages/undetected_chromedriver/__init__.py:724\u001b[0m, in \u001b[0;36mChrome.start_session\u001b[0;34m(self, capabilities, browser_profile)\u001b[0m\n\u001b[1;32m    722\u001b[0m \u001b[38;5;28;01mif\u001b[39;00m \u001b[38;5;129;01mnot\u001b[39;00m capabilities:\n\u001b[1;32m    723\u001b[0m     capabilities \u001b[38;5;241m=\u001b[39m \u001b[38;5;28mself\u001b[39m\u001b[38;5;241m.\u001b[39moptions\u001b[38;5;241m.\u001b[39mto_capabilities()\n\u001b[0;32m--> 724\u001b[0m \u001b[38;5;28;43msuper\u001b[39;49m\u001b[43m(\u001b[49m\u001b[43mselenium\u001b[49m\u001b[38;5;241;43m.\u001b[39;49m\u001b[43mwebdriver\u001b[49m\u001b[38;5;241;43m.\u001b[39;49m\u001b[43mchrome\u001b[49m\u001b[38;5;241;43m.\u001b[39;49m\u001b[43mwebdriver\u001b[49m\u001b[38;5;241;43m.\u001b[39;49m\u001b[43mWebDriver\u001b[49m\u001b[43m,\u001b[49m\u001b[43m \u001b[49m\u001b[38;5;28;43mself\u001b[39;49m\u001b[43m)\u001b[49m\u001b[38;5;241;43m.\u001b[39;49m\u001b[43mstart_session\u001b[49m\u001b[43m(\u001b[49m\n\u001b[1;32m    725\u001b[0m \u001b[43m    \u001b[49m\u001b[43mcapabilities\u001b[49m\n\u001b[1;32m    726\u001b[0m \u001b[43m\u001b[49m\u001b[43m)\u001b[49m\n",
      "File \u001b[0;32m~/opt/anaconda3/envs/scrapenv/lib/python3.9/site-packages/selenium/webdriver/remote/webdriver.py:293\u001b[0m, in \u001b[0;36mWebDriver.start_session\u001b[0;34m(self, capabilities)\u001b[0m\n\u001b[1;32m    286\u001b[0m \u001b[38;5;250m\u001b[39m\u001b[38;5;124;03m\"\"\"Creates a new session with the desired capabilities.\u001b[39;00m\n\u001b[1;32m    287\u001b[0m \n\u001b[1;32m    288\u001b[0m \u001b[38;5;124;03m:Args:\u001b[39;00m\n\u001b[1;32m    289\u001b[0m \u001b[38;5;124;03m - capabilities - a capabilities dict to start the session with.\u001b[39;00m\n\u001b[1;32m    290\u001b[0m \u001b[38;5;124;03m\"\"\"\u001b[39;00m\n\u001b[1;32m    292\u001b[0m caps \u001b[38;5;241m=\u001b[39m _create_caps(capabilities)\n\u001b[0;32m--> 293\u001b[0m response \u001b[38;5;241m=\u001b[39m \u001b[38;5;28;43mself\u001b[39;49m\u001b[38;5;241;43m.\u001b[39;49m\u001b[43mexecute\u001b[49m\u001b[43m(\u001b[49m\u001b[43mCommand\u001b[49m\u001b[38;5;241;43m.\u001b[39;49m\u001b[43mNEW_SESSION\u001b[49m\u001b[43m,\u001b[49m\u001b[43m \u001b[49m\u001b[43mcaps\u001b[49m\u001b[43m)\u001b[49m[\u001b[38;5;124m\"\u001b[39m\u001b[38;5;124mvalue\u001b[39m\u001b[38;5;124m\"\u001b[39m]\n\u001b[1;32m    294\u001b[0m \u001b[38;5;28mself\u001b[39m\u001b[38;5;241m.\u001b[39msession_id \u001b[38;5;241m=\u001b[39m response\u001b[38;5;241m.\u001b[39mget(\u001b[38;5;124m\"\u001b[39m\u001b[38;5;124msessionId\u001b[39m\u001b[38;5;124m\"\u001b[39m)\n\u001b[1;32m    295\u001b[0m \u001b[38;5;28mself\u001b[39m\u001b[38;5;241m.\u001b[39mcaps \u001b[38;5;241m=\u001b[39m response\u001b[38;5;241m.\u001b[39mget(\u001b[38;5;124m\"\u001b[39m\u001b[38;5;124mcapabilities\u001b[39m\u001b[38;5;124m\"\u001b[39m)\n",
      "File \u001b[0;32m~/opt/anaconda3/envs/scrapenv/lib/python3.9/site-packages/selenium/webdriver/remote/webdriver.py:348\u001b[0m, in \u001b[0;36mWebDriver.execute\u001b[0;34m(self, driver_command, params)\u001b[0m\n\u001b[1;32m    346\u001b[0m response \u001b[38;5;241m=\u001b[39m \u001b[38;5;28mself\u001b[39m\u001b[38;5;241m.\u001b[39mcommand_executor\u001b[38;5;241m.\u001b[39mexecute(driver_command, params)\n\u001b[1;32m    347\u001b[0m \u001b[38;5;28;01mif\u001b[39;00m response:\n\u001b[0;32m--> 348\u001b[0m     \u001b[38;5;28;43mself\u001b[39;49m\u001b[38;5;241;43m.\u001b[39;49m\u001b[43merror_handler\u001b[49m\u001b[38;5;241;43m.\u001b[39;49m\u001b[43mcheck_response\u001b[49m\u001b[43m(\u001b[49m\u001b[43mresponse\u001b[49m\u001b[43m)\u001b[49m\n\u001b[1;32m    349\u001b[0m     response[\u001b[38;5;124m\"\u001b[39m\u001b[38;5;124mvalue\u001b[39m\u001b[38;5;124m\"\u001b[39m] \u001b[38;5;241m=\u001b[39m \u001b[38;5;28mself\u001b[39m\u001b[38;5;241m.\u001b[39m_unwrap_value(response\u001b[38;5;241m.\u001b[39mget(\u001b[38;5;124m\"\u001b[39m\u001b[38;5;124mvalue\u001b[39m\u001b[38;5;124m\"\u001b[39m, \u001b[38;5;28;01mNone\u001b[39;00m))\n\u001b[1;32m    350\u001b[0m     \u001b[38;5;28;01mreturn\u001b[39;00m response\n",
      "File \u001b[0;32m~/opt/anaconda3/envs/scrapenv/lib/python3.9/site-packages/selenium/webdriver/remote/errorhandler.py:229\u001b[0m, in \u001b[0;36mErrorHandler.check_response\u001b[0;34m(self, response)\u001b[0m\n\u001b[1;32m    227\u001b[0m         alert_text \u001b[38;5;241m=\u001b[39m value[\u001b[38;5;124m\"\u001b[39m\u001b[38;5;124malert\u001b[39m\u001b[38;5;124m\"\u001b[39m]\u001b[38;5;241m.\u001b[39mget(\u001b[38;5;124m\"\u001b[39m\u001b[38;5;124mtext\u001b[39m\u001b[38;5;124m\"\u001b[39m)\n\u001b[1;32m    228\u001b[0m     \u001b[38;5;28;01mraise\u001b[39;00m exception_class(message, screen, stacktrace, alert_text)  \u001b[38;5;66;03m# type: ignore[call-arg]  # mypy is not smart enough here\u001b[39;00m\n\u001b[0;32m--> 229\u001b[0m \u001b[38;5;28;01mraise\u001b[39;00m exception_class(message, screen, stacktrace)\n",
      "\u001b[0;31mWebDriverException\u001b[0m: Message: unknown error: cannot connect to chrome at 127.0.0.1:60861\nfrom session not created: This version of ChromeDriver only supports Chrome version 122\nCurrent browser version is 121.0.6167.184\nStacktrace:\n0   undetected_chromedriver             0x00000001009acdf8 undetected_chromedriver + 4627960\n1   undetected_chromedriver             0x00000001009a4b23 undetected_chromedriver + 4594467\n2   undetected_chromedriver             0x00000001005a2e4a undetected_chromedriver + 392778\n3   undetected_chromedriver             0x00000001005ddf91 undetected_chromedriver + 634769\n4   undetected_chromedriver             0x00000001005dd0d3 undetected_chromedriver + 630995\n5   undetected_chromedriver             0x00000001005d3a66 undetected_chromedriver + 592486\n6   undetected_chromedriver             0x000000010061d6fa undetected_chromedriver + 894714\n7   undetected_chromedriver             0x0000000100610613 undetected_chromedriver + 841235\n8   undetected_chromedriver             0x00000001005e13da undetected_chromedriver + 648154\n9   undetected_chromedriver             0x00000001005e1d1e undetected_chromedriver + 650526\n10  undetected_chromedriver             0x000000010096c870 undetected_chromedriver + 4364400\n11  undetected_chromedriver             0x0000000100971c21 undetected_chromedriver + 4385825\n12  undetected_chromedriver             0x0000000100951b0e undetected_chromedriver + 4254478\n13  undetected_chromedriver             0x0000000100972949 undetected_chromedriver + 4389193\n14  undetected_chromedriver             0x0000000100943e49 undetected_chromedriver + 4197961\n15  undetected_chromedriver             0x0000000100993b58 undetected_chromedriver + 4524888\n16  undetected_chromedriver             0x0000000100993d37 undetected_chromedriver + 4525367\n17  undetected_chromedriver             0x00000001009a4763 undetected_chromedriver + 4593507\n18  libsystem_pthread.dylib             0x00007ff8083f5259 _pthread_start + 125\n19  libsystem_pthread.dylib             0x00007ff8083f0c7b thread_start + 15\n"
     ]
    }
   ],
   "source": [
    "\"\"\" Test avec airbnb\"\"\"\n",
    "pages = []\n",
    "\n",
    "\n",
    "## Set Chrome Options\n",
    "options = uc.ChromeOptions()\n",
    "\n",
    "## Create Undetected Chromedriver with Proxy\n",
    "driver = uc.Chrome(options=options)\n",
    "\n",
    "\n",
    "## Recupere l'url des annonces sur la page\n",
    "url = \"https://www.airbnb.fr/s/Strasbourg--France/homes?tab_id=home_tab&refinement_paths%5B%5D=%2Fhomes&flexible_trip_lengths%5B%5D=one_week&monthly_start_date=2024-03-01&monthly_length=3&monthly_end_date=2024-06-01&price_filter_input_type=0&channel=EXPLORE&query=Strasbourg%2C%20France&place_id=ChIJwbIYXknIlkcRHyTnGDFIGpc&date_picker_type=calendar&source=structured_search_input_header&search_type=filter_change&price_filter_num_nights=5&flexible_date_search_filter_type=2&checkin=2024-02-25&checkout=2024-02-26\"\n",
    "## Send Request\n",
    "driver.get(url)\n",
    "url_elements = driver.find_elements(By.CSS_SELECTOR, '[rel=\"noopener noreferrer nofollow\"]')\n",
    "urls = [\n",
    "    element.get_attribute(\"href\")\n",
    "    for element in url_elements\n",
    "    if element.get_attribute(\"href\").startswith(\n",
    "        \"https://www.airbnb.fr/rooms/\"\n",
    "    )  # avoids to retrieve the urls that redirect to ads\n",
    "]\n",
    "\n",
    "\n",
    "driver.quit()\n",
    "\n"
   ]
  },
  {
   "cell_type": "code",
   "execution_count": 7,
   "metadata": {},
   "outputs": [
    {
     "data": {
      "text/plain": [
       "['https://www.airbnb.fr/rooms/53508916?adults=1&category_tag=Tag%3A8678&children=0&enable_m3_private_room=true&infants=0&pets=0&photo_id=1518621813&check_in=2024-03-16&check_out=2024-03-21&source_impression_id=p3_1707470183_iHCoXPmnh4obggDj&previous_page_section_name=1000&federated_search_id=107bc5bb-9945-45d0-8f52-8def5f94ec22',\n",
       " 'https://www.airbnb.fr/rooms/53508916?adults=1&category_tag=Tag%3A8678&children=0&enable_m3_private_room=true&infants=0&pets=0&photo_id=1518621813&check_in=2024-03-16&check_out=2024-03-21&source_impression_id=p3_1707470183_iHCoXPmnh4obggDj&previous_page_section_name=1000&federated_search_id=107bc5bb-9945-45d0-8f52-8def5f94ec22',\n",
       " 'https://www.airbnb.fr/rooms/53508916?adults=1&category_tag=Tag%3A8678&children=0&enable_m3_private_room=true&infants=0&pets=0&photo_id=1518621813&check_in=2024-03-16&check_out=2024-03-21&source_impression_id=p3_1707470183_iHCoXPmnh4obggDj&previous_page_section_name=1000&federated_search_id=107bc5bb-9945-45d0-8f52-8def5f94ec22',\n",
       " 'https://www.airbnb.fr/rooms/53508916?adults=1&category_tag=Tag%3A8678&children=0&enable_m3_private_room=true&infants=0&pets=0&photo_id=1518621813&check_in=2024-03-16&check_out=2024-03-21&source_impression_id=p3_1707470183_iHCoXPmnh4obggDj&previous_page_section_name=1000&federated_search_id=107bc5bb-9945-45d0-8f52-8def5f94ec22',\n",
       " 'https://www.airbnb.fr/rooms/53508916?adults=1&category_tag=Tag%3A8678&children=0&enable_m3_private_room=true&infants=0&pets=0&photo_id=1518621813&check_in=2024-03-16&check_out=2024-03-21&source_impression_id=p3_1707470183_iHCoXPmnh4obggDj&previous_page_section_name=1000&federated_search_id=107bc5bb-9945-45d0-8f52-8def5f94ec22',\n",
       " 'https://www.airbnb.fr/rooms/53508916?adults=1&category_tag=Tag%3A8678&children=0&enable_m3_private_room=true&infants=0&pets=0&photo_id=1518621813&check_in=2024-03-16&check_out=2024-03-21&source_impression_id=p3_1707470183_iHCoXPmnh4obggDj&previous_page_section_name=1000&federated_search_id=107bc5bb-9945-45d0-8f52-8def5f94ec22',\n",
       " 'https://www.airbnb.fr/rooms/53508916?adults=1&category_tag=Tag%3A8678&children=0&enable_m3_private_room=true&infants=0&pets=0&photo_id=1518621813&check_in=2024-03-16&check_out=2024-03-21&source_impression_id=p3_1707470183_iHCoXPmnh4obggDj&previous_page_section_name=1000&federated_search_id=107bc5bb-9945-45d0-8f52-8def5f94ec22',\n",
       " 'https://www.airbnb.fr/rooms/1085505836993262238?adults=1&children=0&enable_m3_private_room=true&infants=0&pets=0&check_in=2024-02-10&check_out=2024-02-15&source_impression_id=p3_1707470204_dYSKqP3%2FV7F%2BzA24&previous_page_section_name=1000&federated_search_id=107bc5bb-9945-45d0-8f52-8def5f94ec22',\n",
       " 'https://www.airbnb.fr/rooms/1085505836993262238?adults=1&children=0&enable_m3_private_room=true&infants=0&pets=0&check_in=2024-02-10&check_out=2024-02-15&source_impression_id=p3_1707470204_dYSKqP3%2FV7F%2BzA24&previous_page_section_name=1000&federated_search_id=107bc5bb-9945-45d0-8f52-8def5f94ec22',\n",
       " 'https://www.airbnb.fr/rooms/1085505836993262238?adults=1&children=0&enable_m3_private_room=true&infants=0&pets=0&check_in=2024-02-10&check_out=2024-02-15&source_impression_id=p3_1707470204_dYSKqP3%2FV7F%2BzA24&previous_page_section_name=1000&federated_search_id=107bc5bb-9945-45d0-8f52-8def5f94ec22',\n",
       " 'https://www.airbnb.fr/rooms/1085505836993262238?adults=1&children=0&enable_m3_private_room=true&infants=0&pets=0&check_in=2024-02-10&check_out=2024-02-15&source_impression_id=p3_1707470204_dYSKqP3%2FV7F%2BzA24&previous_page_section_name=1000&federated_search_id=107bc5bb-9945-45d0-8f52-8def5f94ec22',\n",
       " 'https://www.airbnb.fr/rooms/1085505836993262238?adults=1&children=0&enable_m3_private_room=true&infants=0&pets=0&check_in=2024-02-10&check_out=2024-02-15&source_impression_id=p3_1707470204_dYSKqP3%2FV7F%2BzA24&previous_page_section_name=1000&federated_search_id=107bc5bb-9945-45d0-8f52-8def5f94ec22',\n",
       " 'https://www.airbnb.fr/rooms/1085505836993262238?adults=1&children=0&enable_m3_private_room=true&infants=0&pets=0&check_in=2024-02-10&check_out=2024-02-15&source_impression_id=p3_1707470204_dYSKqP3%2FV7F%2BzA24&previous_page_section_name=1000&federated_search_id=107bc5bb-9945-45d0-8f52-8def5f94ec22',\n",
       " 'https://www.airbnb.fr/rooms/1085505836993262238?adults=1&children=0&enable_m3_private_room=true&infants=0&pets=0&check_in=2024-02-10&check_out=2024-02-15&source_impression_id=p3_1707470204_dYSKqP3%2FV7F%2BzA24&previous_page_section_name=1000&federated_search_id=107bc5bb-9945-45d0-8f52-8def5f94ec22',\n",
       " 'https://www.airbnb.fr/rooms/910734952998284234?adults=1&children=0&enable_m3_private_room=true&infants=0&pets=0&check_in=2024-02-10&check_out=2024-02-15&source_impression_id=p3_1707470204_qx1RF883Mok4iWCw&previous_page_section_name=1000&federated_search_id=107bc5bb-9945-45d0-8f52-8def5f94ec22',\n",
       " 'https://www.airbnb.fr/rooms/910734952998284234?adults=1&children=0&enable_m3_private_room=true&infants=0&pets=0&check_in=2024-02-10&check_out=2024-02-15&source_impression_id=p3_1707470204_qx1RF883Mok4iWCw&previous_page_section_name=1000&federated_search_id=107bc5bb-9945-45d0-8f52-8def5f94ec22',\n",
       " 'https://www.airbnb.fr/rooms/910734952998284234?adults=1&children=0&enable_m3_private_room=true&infants=0&pets=0&check_in=2024-02-10&check_out=2024-02-15&source_impression_id=p3_1707470204_qx1RF883Mok4iWCw&previous_page_section_name=1000&federated_search_id=107bc5bb-9945-45d0-8f52-8def5f94ec22',\n",
       " 'https://www.airbnb.fr/rooms/910734952998284234?adults=1&children=0&enable_m3_private_room=true&infants=0&pets=0&check_in=2024-02-10&check_out=2024-02-15&source_impression_id=p3_1707470204_qx1RF883Mok4iWCw&previous_page_section_name=1000&federated_search_id=107bc5bb-9945-45d0-8f52-8def5f94ec22',\n",
       " 'https://www.airbnb.fr/rooms/910734952998284234?adults=1&children=0&enable_m3_private_room=true&infants=0&pets=0&check_in=2024-02-10&check_out=2024-02-15&source_impression_id=p3_1707470204_qx1RF883Mok4iWCw&previous_page_section_name=1000&federated_search_id=107bc5bb-9945-45d0-8f52-8def5f94ec22',\n",
       " 'https://www.airbnb.fr/rooms/910734952998284234?adults=1&children=0&enable_m3_private_room=true&infants=0&pets=0&check_in=2024-02-10&check_out=2024-02-15&source_impression_id=p3_1707470204_qx1RF883Mok4iWCw&previous_page_section_name=1000&federated_search_id=107bc5bb-9945-45d0-8f52-8def5f94ec22',\n",
       " 'https://www.airbnb.fr/rooms/910734952998284234?adults=1&children=0&enable_m3_private_room=true&infants=0&pets=0&check_in=2024-02-10&check_out=2024-02-15&source_impression_id=p3_1707470204_qx1RF883Mok4iWCw&previous_page_section_name=1000&federated_search_id=107bc5bb-9945-45d0-8f52-8def5f94ec22',\n",
       " 'https://www.airbnb.fr/rooms/2004192?adults=1&children=0&enable_m3_private_room=true&infants=0&pets=0&check_in=2024-02-29&check_out=2024-03-05&source_impression_id=p3_1707470205_vLKh%2Bsa5oOGvpdD%2F&previous_page_section_name=1000&federated_search_id=107bc5bb-9945-45d0-8f52-8def5f94ec22',\n",
       " 'https://www.airbnb.fr/rooms/2004192?adults=1&children=0&enable_m3_private_room=true&infants=0&pets=0&check_in=2024-02-29&check_out=2024-03-05&source_impression_id=p3_1707470205_vLKh%2Bsa5oOGvpdD%2F&previous_page_section_name=1000&federated_search_id=107bc5bb-9945-45d0-8f52-8def5f94ec22',\n",
       " 'https://www.airbnb.fr/rooms/2004192?adults=1&children=0&enable_m3_private_room=true&infants=0&pets=0&check_in=2024-02-29&check_out=2024-03-05&source_impression_id=p3_1707470205_vLKh%2Bsa5oOGvpdD%2F&previous_page_section_name=1000&federated_search_id=107bc5bb-9945-45d0-8f52-8def5f94ec22',\n",
       " 'https://www.airbnb.fr/rooms/2004192?adults=1&children=0&enable_m3_private_room=true&infants=0&pets=0&check_in=2024-02-29&check_out=2024-03-05&source_impression_id=p3_1707470205_vLKh%2Bsa5oOGvpdD%2F&previous_page_section_name=1000&federated_search_id=107bc5bb-9945-45d0-8f52-8def5f94ec22',\n",
       " 'https://www.airbnb.fr/rooms/2004192?adults=1&children=0&enable_m3_private_room=true&infants=0&pets=0&check_in=2024-02-29&check_out=2024-03-05&source_impression_id=p3_1707470205_vLKh%2Bsa5oOGvpdD%2F&previous_page_section_name=1000&federated_search_id=107bc5bb-9945-45d0-8f52-8def5f94ec22',\n",
       " 'https://www.airbnb.fr/rooms/2004192?adults=1&children=0&enable_m3_private_room=true&infants=0&pets=0&check_in=2024-02-29&check_out=2024-03-05&source_impression_id=p3_1707470205_vLKh%2Bsa5oOGvpdD%2F&previous_page_section_name=1000&federated_search_id=107bc5bb-9945-45d0-8f52-8def5f94ec22',\n",
       " 'https://www.airbnb.fr/rooms/2004192?adults=1&children=0&enable_m3_private_room=true&infants=0&pets=0&check_in=2024-02-29&check_out=2024-03-05&source_impression_id=p3_1707470205_vLKh%2Bsa5oOGvpdD%2F&previous_page_section_name=1000&federated_search_id=107bc5bb-9945-45d0-8f52-8def5f94ec22',\n",
       " 'https://www.airbnb.fr/rooms/1989872?adults=1&children=0&enable_m3_private_room=true&infants=0&pets=0&check_in=2024-02-09&check_out=2024-02-14&source_impression_id=p3_1707470205_CPPC%2B475E6YAZwRC&previous_page_section_name=1000&federated_search_id=107bc5bb-9945-45d0-8f52-8def5f94ec22',\n",
       " 'https://www.airbnb.fr/rooms/1989872?adults=1&children=0&enable_m3_private_room=true&infants=0&pets=0&check_in=2024-02-09&check_out=2024-02-14&source_impression_id=p3_1707470205_CPPC%2B475E6YAZwRC&previous_page_section_name=1000&federated_search_id=107bc5bb-9945-45d0-8f52-8def5f94ec22',\n",
       " 'https://www.airbnb.fr/rooms/1989872?adults=1&children=0&enable_m3_private_room=true&infants=0&pets=0&check_in=2024-02-09&check_out=2024-02-14&source_impression_id=p3_1707470205_CPPC%2B475E6YAZwRC&previous_page_section_name=1000&federated_search_id=107bc5bb-9945-45d0-8f52-8def5f94ec22',\n",
       " 'https://www.airbnb.fr/rooms/1989872?adults=1&children=0&enable_m3_private_room=true&infants=0&pets=0&check_in=2024-02-09&check_out=2024-02-14&source_impression_id=p3_1707470205_CPPC%2B475E6YAZwRC&previous_page_section_name=1000&federated_search_id=107bc5bb-9945-45d0-8f52-8def5f94ec22',\n",
       " 'https://www.airbnb.fr/rooms/1989872?adults=1&children=0&enable_m3_private_room=true&infants=0&pets=0&check_in=2024-02-09&check_out=2024-02-14&source_impression_id=p3_1707470205_CPPC%2B475E6YAZwRC&previous_page_section_name=1000&federated_search_id=107bc5bb-9945-45d0-8f52-8def5f94ec22',\n",
       " 'https://www.airbnb.fr/rooms/1989872?adults=1&children=0&enable_m3_private_room=true&infants=0&pets=0&check_in=2024-02-09&check_out=2024-02-14&source_impression_id=p3_1707470205_CPPC%2B475E6YAZwRC&previous_page_section_name=1000&federated_search_id=107bc5bb-9945-45d0-8f52-8def5f94ec22',\n",
       " 'https://www.airbnb.fr/rooms/1989872?adults=1&children=0&enable_m3_private_room=true&infants=0&pets=0&check_in=2024-02-09&check_out=2024-02-14&source_impression_id=p3_1707470205_CPPC%2B475E6YAZwRC&previous_page_section_name=1000&federated_search_id=107bc5bb-9945-45d0-8f52-8def5f94ec22',\n",
       " 'https://www.airbnb.fr/rooms/53342629?adults=1&children=0&enable_m3_private_room=true&infants=0&pets=0&check_in=2024-04-11&check_out=2024-04-16&source_impression_id=p3_1707470206_Rxh3fniyKUcNbtfX&previous_page_section_name=1000&federated_search_id=107bc5bb-9945-45d0-8f52-8def5f94ec22',\n",
       " 'https://www.airbnb.fr/rooms/53342629?adults=1&children=0&enable_m3_private_room=true&infants=0&pets=0&check_in=2024-04-11&check_out=2024-04-16&source_impression_id=p3_1707470206_Rxh3fniyKUcNbtfX&previous_page_section_name=1000&federated_search_id=107bc5bb-9945-45d0-8f52-8def5f94ec22',\n",
       " 'https://www.airbnb.fr/rooms/53342629?adults=1&children=0&enable_m3_private_room=true&infants=0&pets=0&check_in=2024-04-11&check_out=2024-04-16&source_impression_id=p3_1707470206_Rxh3fniyKUcNbtfX&previous_page_section_name=1000&federated_search_id=107bc5bb-9945-45d0-8f52-8def5f94ec22',\n",
       " 'https://www.airbnb.fr/rooms/53342629?adults=1&children=0&enable_m3_private_room=true&infants=0&pets=0&check_in=2024-04-11&check_out=2024-04-16&source_impression_id=p3_1707470206_Rxh3fniyKUcNbtfX&previous_page_section_name=1000&federated_search_id=107bc5bb-9945-45d0-8f52-8def5f94ec22',\n",
       " 'https://www.airbnb.fr/rooms/53342629?adults=1&children=0&enable_m3_private_room=true&infants=0&pets=0&check_in=2024-04-11&check_out=2024-04-16&source_impression_id=p3_1707470206_Rxh3fniyKUcNbtfX&previous_page_section_name=1000&federated_search_id=107bc5bb-9945-45d0-8f52-8def5f94ec22',\n",
       " 'https://www.airbnb.fr/rooms/53342629?adults=1&children=0&enable_m3_private_room=true&infants=0&pets=0&check_in=2024-04-11&check_out=2024-04-16&source_impression_id=p3_1707470206_Rxh3fniyKUcNbtfX&previous_page_section_name=1000&federated_search_id=107bc5bb-9945-45d0-8f52-8def5f94ec22',\n",
       " 'https://www.airbnb.fr/rooms/53342629?adults=1&children=0&enable_m3_private_room=true&infants=0&pets=0&check_in=2024-04-11&check_out=2024-04-16&source_impression_id=p3_1707470206_Rxh3fniyKUcNbtfX&previous_page_section_name=1000&federated_search_id=107bc5bb-9945-45d0-8f52-8def5f94ec22',\n",
       " 'https://www.airbnb.fr/rooms/15320110?adults=1&children=0&enable_m3_private_room=true&infants=0&pets=0&check_in=2024-03-04&check_out=2024-03-09&source_impression_id=p3_1707470207_z%2FiQUyjfZaUgSe0H&previous_page_section_name=1000&federated_search_id=107bc5bb-9945-45d0-8f52-8def5f94ec22',\n",
       " 'https://www.airbnb.fr/rooms/15320110?adults=1&children=0&enable_m3_private_room=true&infants=0&pets=0&check_in=2024-03-04&check_out=2024-03-09&source_impression_id=p3_1707470207_z%2FiQUyjfZaUgSe0H&previous_page_section_name=1000&federated_search_id=107bc5bb-9945-45d0-8f52-8def5f94ec22',\n",
       " 'https://www.airbnb.fr/rooms/15320110?adults=1&children=0&enable_m3_private_room=true&infants=0&pets=0&check_in=2024-03-04&check_out=2024-03-09&source_impression_id=p3_1707470207_z%2FiQUyjfZaUgSe0H&previous_page_section_name=1000&federated_search_id=107bc5bb-9945-45d0-8f52-8def5f94ec22',\n",
       " 'https://www.airbnb.fr/rooms/15320110?adults=1&children=0&enable_m3_private_room=true&infants=0&pets=0&check_in=2024-03-04&check_out=2024-03-09&source_impression_id=p3_1707470207_z%2FiQUyjfZaUgSe0H&previous_page_section_name=1000&federated_search_id=107bc5bb-9945-45d0-8f52-8def5f94ec22',\n",
       " 'https://www.airbnb.fr/rooms/15320110?adults=1&children=0&enable_m3_private_room=true&infants=0&pets=0&check_in=2024-03-04&check_out=2024-03-09&source_impression_id=p3_1707470207_z%2FiQUyjfZaUgSe0H&previous_page_section_name=1000&federated_search_id=107bc5bb-9945-45d0-8f52-8def5f94ec22',\n",
       " 'https://www.airbnb.fr/rooms/15320110?adults=1&children=0&enable_m3_private_room=true&infants=0&pets=0&check_in=2024-03-04&check_out=2024-03-09&source_impression_id=p3_1707470207_z%2FiQUyjfZaUgSe0H&previous_page_section_name=1000&federated_search_id=107bc5bb-9945-45d0-8f52-8def5f94ec22',\n",
       " 'https://www.airbnb.fr/rooms/15320110?adults=1&children=0&enable_m3_private_room=true&infants=0&pets=0&check_in=2024-03-04&check_out=2024-03-09&source_impression_id=p3_1707470207_z%2FiQUyjfZaUgSe0H&previous_page_section_name=1000&federated_search_id=107bc5bb-9945-45d0-8f52-8def5f94ec22',\n",
       " 'https://www.airbnb.fr/rooms/32213516?adults=1&children=0&enable_m3_private_room=true&infants=0&pets=0&check_in=2024-02-18&check_out=2024-02-23&source_impression_id=p3_1707470207_zLLTJI6e37PDvxZ%2B&previous_page_section_name=1000&federated_search_id=107bc5bb-9945-45d0-8f52-8def5f94ec22',\n",
       " 'https://www.airbnb.fr/rooms/32213516?adults=1&children=0&enable_m3_private_room=true&infants=0&pets=0&check_in=2024-02-18&check_out=2024-02-23&source_impression_id=p3_1707470207_zLLTJI6e37PDvxZ%2B&previous_page_section_name=1000&federated_search_id=107bc5bb-9945-45d0-8f52-8def5f94ec22',\n",
       " 'https://www.airbnb.fr/rooms/32213516?adults=1&children=0&enable_m3_private_room=true&infants=0&pets=0&check_in=2024-02-18&check_out=2024-02-23&source_impression_id=p3_1707470207_zLLTJI6e37PDvxZ%2B&previous_page_section_name=1000&federated_search_id=107bc5bb-9945-45d0-8f52-8def5f94ec22',\n",
       " 'https://www.airbnb.fr/rooms/32213516?adults=1&children=0&enable_m3_private_room=true&infants=0&pets=0&check_in=2024-02-18&check_out=2024-02-23&source_impression_id=p3_1707470207_zLLTJI6e37PDvxZ%2B&previous_page_section_name=1000&federated_search_id=107bc5bb-9945-45d0-8f52-8def5f94ec22',\n",
       " 'https://www.airbnb.fr/rooms/32213516?adults=1&children=0&enable_m3_private_room=true&infants=0&pets=0&check_in=2024-02-18&check_out=2024-02-23&source_impression_id=p3_1707470207_zLLTJI6e37PDvxZ%2B&previous_page_section_name=1000&federated_search_id=107bc5bb-9945-45d0-8f52-8def5f94ec22',\n",
       " 'https://www.airbnb.fr/rooms/32213516?adults=1&children=0&enable_m3_private_room=true&infants=0&pets=0&check_in=2024-02-18&check_out=2024-02-23&source_impression_id=p3_1707470207_zLLTJI6e37PDvxZ%2B&previous_page_section_name=1000&federated_search_id=107bc5bb-9945-45d0-8f52-8def5f94ec22',\n",
       " 'https://www.airbnb.fr/rooms/32213516?adults=1&children=0&enable_m3_private_room=true&infants=0&pets=0&check_in=2024-02-18&check_out=2024-02-23&source_impression_id=p3_1707470207_zLLTJI6e37PDvxZ%2B&previous_page_section_name=1000&federated_search_id=107bc5bb-9945-45d0-8f52-8def5f94ec22',\n",
       " 'https://www.airbnb.fr/rooms/39838643?adults=1&children=0&enable_m3_private_room=true&infants=0&pets=0&check_in=2024-07-06&check_out=2024-07-11&source_impression_id=p3_1707470208_QrwiXk47pwabFe%2Fn&previous_page_section_name=1000&federated_search_id=107bc5bb-9945-45d0-8f52-8def5f94ec22',\n",
       " 'https://www.airbnb.fr/rooms/39838643?adults=1&children=0&enable_m3_private_room=true&infants=0&pets=0&check_in=2024-07-06&check_out=2024-07-11&source_impression_id=p3_1707470208_QrwiXk47pwabFe%2Fn&previous_page_section_name=1000&federated_search_id=107bc5bb-9945-45d0-8f52-8def5f94ec22',\n",
       " 'https://www.airbnb.fr/rooms/39838643?adults=1&children=0&enable_m3_private_room=true&infants=0&pets=0&check_in=2024-07-06&check_out=2024-07-11&source_impression_id=p3_1707470208_QrwiXk47pwabFe%2Fn&previous_page_section_name=1000&federated_search_id=107bc5bb-9945-45d0-8f52-8def5f94ec22',\n",
       " 'https://www.airbnb.fr/rooms/39838643?adults=1&children=0&enable_m3_private_room=true&infants=0&pets=0&check_in=2024-07-06&check_out=2024-07-11&source_impression_id=p3_1707470208_QrwiXk47pwabFe%2Fn&previous_page_section_name=1000&federated_search_id=107bc5bb-9945-45d0-8f52-8def5f94ec22',\n",
       " 'https://www.airbnb.fr/rooms/39838643?adults=1&children=0&enable_m3_private_room=true&infants=0&pets=0&check_in=2024-07-06&check_out=2024-07-11&source_impression_id=p3_1707470208_QrwiXk47pwabFe%2Fn&previous_page_section_name=1000&federated_search_id=107bc5bb-9945-45d0-8f52-8def5f94ec22',\n",
       " 'https://www.airbnb.fr/rooms/39838643?adults=1&children=0&enable_m3_private_room=true&infants=0&pets=0&check_in=2024-07-06&check_out=2024-07-11&source_impression_id=p3_1707470208_QrwiXk47pwabFe%2Fn&previous_page_section_name=1000&federated_search_id=107bc5bb-9945-45d0-8f52-8def5f94ec22',\n",
       " 'https://www.airbnb.fr/rooms/39838643?adults=1&children=0&enable_m3_private_room=true&infants=0&pets=0&check_in=2024-07-06&check_out=2024-07-11&source_impression_id=p3_1707470208_QrwiXk47pwabFe%2Fn&previous_page_section_name=1000&federated_search_id=107bc5bb-9945-45d0-8f52-8def5f94ec22',\n",
       " 'https://www.airbnb.fr/rooms/578674622055996437?adults=1&children=0&enable_m3_private_room=true&infants=0&pets=0&check_in=2024-02-25&check_out=2024-03-01&source_impression_id=p3_1707470209_I5wwdLRnzRm%2FprbY&previous_page_section_name=1000&federated_search_id=107bc5bb-9945-45d0-8f52-8def5f94ec22',\n",
       " 'https://www.airbnb.fr/rooms/578674622055996437?adults=1&children=0&enable_m3_private_room=true&infants=0&pets=0&check_in=2024-02-25&check_out=2024-03-01&source_impression_id=p3_1707470209_I5wwdLRnzRm%2FprbY&previous_page_section_name=1000&federated_search_id=107bc5bb-9945-45d0-8f52-8def5f94ec22',\n",
       " 'https://www.airbnb.fr/rooms/578674622055996437?adults=1&children=0&enable_m3_private_room=true&infants=0&pets=0&check_in=2024-02-25&check_out=2024-03-01&source_impression_id=p3_1707470209_I5wwdLRnzRm%2FprbY&previous_page_section_name=1000&federated_search_id=107bc5bb-9945-45d0-8f52-8def5f94ec22',\n",
       " 'https://www.airbnb.fr/rooms/578674622055996437?adults=1&children=0&enable_m3_private_room=true&infants=0&pets=0&check_in=2024-02-25&check_out=2024-03-01&source_impression_id=p3_1707470209_I5wwdLRnzRm%2FprbY&previous_page_section_name=1000&federated_search_id=107bc5bb-9945-45d0-8f52-8def5f94ec22',\n",
       " 'https://www.airbnb.fr/rooms/578674622055996437?adults=1&children=0&enable_m3_private_room=true&infants=0&pets=0&check_in=2024-02-25&check_out=2024-03-01&source_impression_id=p3_1707470209_I5wwdLRnzRm%2FprbY&previous_page_section_name=1000&federated_search_id=107bc5bb-9945-45d0-8f52-8def5f94ec22',\n",
       " 'https://www.airbnb.fr/rooms/578674622055996437?adults=1&children=0&enable_m3_private_room=true&infants=0&pets=0&check_in=2024-02-25&check_out=2024-03-01&source_impression_id=p3_1707470209_I5wwdLRnzRm%2FprbY&previous_page_section_name=1000&federated_search_id=107bc5bb-9945-45d0-8f52-8def5f94ec22',\n",
       " 'https://www.airbnb.fr/rooms/578674622055996437?adults=1&children=0&enable_m3_private_room=true&infants=0&pets=0&check_in=2024-02-25&check_out=2024-03-01&source_impression_id=p3_1707470209_I5wwdLRnzRm%2FprbY&previous_page_section_name=1000&federated_search_id=107bc5bb-9945-45d0-8f52-8def5f94ec22',\n",
       " 'https://www.airbnb.fr/rooms/4402941?adults=1&children=0&enable_m3_private_room=true&infants=0&pets=0&check_in=2024-02-11&check_out=2024-02-16&source_impression_id=p3_1707470212_Tx3A5jb9kQqDHt2l&previous_page_section_name=1000&federated_search_id=107bc5bb-9945-45d0-8f52-8def5f94ec22',\n",
       " 'https://www.airbnb.fr/rooms/4402941?adults=1&children=0&enable_m3_private_room=true&infants=0&pets=0&check_in=2024-02-11&check_out=2024-02-16&source_impression_id=p3_1707470212_Tx3A5jb9kQqDHt2l&previous_page_section_name=1000&federated_search_id=107bc5bb-9945-45d0-8f52-8def5f94ec22',\n",
       " 'https://www.airbnb.fr/rooms/4402941?adults=1&children=0&enable_m3_private_room=true&infants=0&pets=0&check_in=2024-02-11&check_out=2024-02-16&source_impression_id=p3_1707470212_Tx3A5jb9kQqDHt2l&previous_page_section_name=1000&federated_search_id=107bc5bb-9945-45d0-8f52-8def5f94ec22',\n",
       " 'https://www.airbnb.fr/rooms/4402941?adults=1&children=0&enable_m3_private_room=true&infants=0&pets=0&check_in=2024-02-11&check_out=2024-02-16&source_impression_id=p3_1707470212_Tx3A5jb9kQqDHt2l&previous_page_section_name=1000&federated_search_id=107bc5bb-9945-45d0-8f52-8def5f94ec22',\n",
       " 'https://www.airbnb.fr/rooms/4402941?adults=1&children=0&enable_m3_private_room=true&infants=0&pets=0&check_in=2024-02-11&check_out=2024-02-16&source_impression_id=p3_1707470212_Tx3A5jb9kQqDHt2l&previous_page_section_name=1000&federated_search_id=107bc5bb-9945-45d0-8f52-8def5f94ec22',\n",
       " 'https://www.airbnb.fr/rooms/4402941?adults=1&children=0&enable_m3_private_room=true&infants=0&pets=0&check_in=2024-02-11&check_out=2024-02-16&source_impression_id=p3_1707470212_Tx3A5jb9kQqDHt2l&previous_page_section_name=1000&federated_search_id=107bc5bb-9945-45d0-8f52-8def5f94ec22',\n",
       " 'https://www.airbnb.fr/rooms/4402941?adults=1&children=0&enable_m3_private_room=true&infants=0&pets=0&check_in=2024-02-11&check_out=2024-02-16&source_impression_id=p3_1707470212_Tx3A5jb9kQqDHt2l&previous_page_section_name=1000&federated_search_id=107bc5bb-9945-45d0-8f52-8def5f94ec22',\n",
       " 'https://www.airbnb.fr/rooms/36312142?adults=1&children=0&enable_m3_private_room=true&infants=0&pets=0&check_in=2024-02-17&check_out=2024-02-22&source_impression_id=p3_1707470212_Q%2FqNYvt75qQfZUun&previous_page_section_name=1000&federated_search_id=107bc5bb-9945-45d0-8f52-8def5f94ec22',\n",
       " 'https://www.airbnb.fr/rooms/36312142?adults=1&children=0&enable_m3_private_room=true&infants=0&pets=0&check_in=2024-02-17&check_out=2024-02-22&source_impression_id=p3_1707470212_Q%2FqNYvt75qQfZUun&previous_page_section_name=1000&federated_search_id=107bc5bb-9945-45d0-8f52-8def5f94ec22',\n",
       " 'https://www.airbnb.fr/rooms/36312142?adults=1&children=0&enable_m3_private_room=true&infants=0&pets=0&check_in=2024-02-17&check_out=2024-02-22&source_impression_id=p3_1707470212_Q%2FqNYvt75qQfZUun&previous_page_section_name=1000&federated_search_id=107bc5bb-9945-45d0-8f52-8def5f94ec22',\n",
       " 'https://www.airbnb.fr/rooms/36312142?adults=1&children=0&enable_m3_private_room=true&infants=0&pets=0&check_in=2024-02-17&check_out=2024-02-22&source_impression_id=p3_1707470212_Q%2FqNYvt75qQfZUun&previous_page_section_name=1000&federated_search_id=107bc5bb-9945-45d0-8f52-8def5f94ec22',\n",
       " 'https://www.airbnb.fr/rooms/36312142?adults=1&children=0&enable_m3_private_room=true&infants=0&pets=0&check_in=2024-02-17&check_out=2024-02-22&source_impression_id=p3_1707470212_Q%2FqNYvt75qQfZUun&previous_page_section_name=1000&federated_search_id=107bc5bb-9945-45d0-8f52-8def5f94ec22',\n",
       " 'https://www.airbnb.fr/rooms/36312142?adults=1&children=0&enable_m3_private_room=true&infants=0&pets=0&check_in=2024-02-17&check_out=2024-02-22&source_impression_id=p3_1707470212_Q%2FqNYvt75qQfZUun&previous_page_section_name=1000&federated_search_id=107bc5bb-9945-45d0-8f52-8def5f94ec22',\n",
       " 'https://www.airbnb.fr/rooms/36312142?adults=1&children=0&enable_m3_private_room=true&infants=0&pets=0&check_in=2024-02-17&check_out=2024-02-22&source_impression_id=p3_1707470212_Q%2FqNYvt75qQfZUun&previous_page_section_name=1000&federated_search_id=107bc5bb-9945-45d0-8f52-8def5f94ec22',\n",
       " 'https://www.airbnb.fr/rooms/42020392?adults=1&children=0&enable_m3_private_room=true&infants=0&pets=0&check_in=2024-02-29&check_out=2024-03-05&source_impression_id=p3_1707470212_Y%2FjWcGkYhCmirqz0&previous_page_section_name=1000&federated_search_id=107bc5bb-9945-45d0-8f52-8def5f94ec22',\n",
       " 'https://www.airbnb.fr/rooms/42020392?adults=1&children=0&enable_m3_private_room=true&infants=0&pets=0&check_in=2024-02-29&check_out=2024-03-05&source_impression_id=p3_1707470212_Y%2FjWcGkYhCmirqz0&previous_page_section_name=1000&federated_search_id=107bc5bb-9945-45d0-8f52-8def5f94ec22',\n",
       " 'https://www.airbnb.fr/rooms/42020392?adults=1&children=0&enable_m3_private_room=true&infants=0&pets=0&check_in=2024-02-29&check_out=2024-03-05&source_impression_id=p3_1707470212_Y%2FjWcGkYhCmirqz0&previous_page_section_name=1000&federated_search_id=107bc5bb-9945-45d0-8f52-8def5f94ec22',\n",
       " 'https://www.airbnb.fr/rooms/42020392?adults=1&children=0&enable_m3_private_room=true&infants=0&pets=0&check_in=2024-02-29&check_out=2024-03-05&source_impression_id=p3_1707470212_Y%2FjWcGkYhCmirqz0&previous_page_section_name=1000&federated_search_id=107bc5bb-9945-45d0-8f52-8def5f94ec22',\n",
       " 'https://www.airbnb.fr/rooms/42020392?adults=1&children=0&enable_m3_private_room=true&infants=0&pets=0&check_in=2024-02-29&check_out=2024-03-05&source_impression_id=p3_1707470212_Y%2FjWcGkYhCmirqz0&previous_page_section_name=1000&federated_search_id=107bc5bb-9945-45d0-8f52-8def5f94ec22',\n",
       " 'https://www.airbnb.fr/rooms/42020392?adults=1&children=0&enable_m3_private_room=true&infants=0&pets=0&check_in=2024-02-29&check_out=2024-03-05&source_impression_id=p3_1707470212_Y%2FjWcGkYhCmirqz0&previous_page_section_name=1000&federated_search_id=107bc5bb-9945-45d0-8f52-8def5f94ec22',\n",
       " 'https://www.airbnb.fr/rooms/42020392?adults=1&children=0&enable_m3_private_room=true&infants=0&pets=0&check_in=2024-02-29&check_out=2024-03-05&source_impression_id=p3_1707470212_Y%2FjWcGkYhCmirqz0&previous_page_section_name=1000&federated_search_id=107bc5bb-9945-45d0-8f52-8def5f94ec22',\n",
       " 'https://www.airbnb.fr/rooms/20728120?adults=1&children=0&enable_m3_private_room=true&infants=0&pets=0&check_in=2024-02-29&check_out=2024-03-05&source_impression_id=p3_1707470212_XNsIeP6i1HBqSqbB&previous_page_section_name=1000&federated_search_id=107bc5bb-9945-45d0-8f52-8def5f94ec22',\n",
       " 'https://www.airbnb.fr/rooms/20728120?adults=1&children=0&enable_m3_private_room=true&infants=0&pets=0&check_in=2024-02-29&check_out=2024-03-05&source_impression_id=p3_1707470212_XNsIeP6i1HBqSqbB&previous_page_section_name=1000&federated_search_id=107bc5bb-9945-45d0-8f52-8def5f94ec22',\n",
       " 'https://www.airbnb.fr/rooms/20728120?adults=1&children=0&enable_m3_private_room=true&infants=0&pets=0&check_in=2024-02-29&check_out=2024-03-05&source_impression_id=p3_1707470212_XNsIeP6i1HBqSqbB&previous_page_section_name=1000&federated_search_id=107bc5bb-9945-45d0-8f52-8def5f94ec22',\n",
       " 'https://www.airbnb.fr/rooms/20728120?adults=1&children=0&enable_m3_private_room=true&infants=0&pets=0&check_in=2024-02-29&check_out=2024-03-05&source_impression_id=p3_1707470212_XNsIeP6i1HBqSqbB&previous_page_section_name=1000&federated_search_id=107bc5bb-9945-45d0-8f52-8def5f94ec22',\n",
       " 'https://www.airbnb.fr/rooms/20728120?adults=1&children=0&enable_m3_private_room=true&infants=0&pets=0&check_in=2024-02-29&check_out=2024-03-05&source_impression_id=p3_1707470212_XNsIeP6i1HBqSqbB&previous_page_section_name=1000&federated_search_id=107bc5bb-9945-45d0-8f52-8def5f94ec22',\n",
       " 'https://www.airbnb.fr/rooms/20728120?adults=1&children=0&enable_m3_private_room=true&infants=0&pets=0&check_in=2024-02-29&check_out=2024-03-05&source_impression_id=p3_1707470212_XNsIeP6i1HBqSqbB&previous_page_section_name=1000&federated_search_id=107bc5bb-9945-45d0-8f52-8def5f94ec22',\n",
       " 'https://www.airbnb.fr/rooms/20728120?adults=1&children=0&enable_m3_private_room=true&infants=0&pets=0&check_in=2024-02-29&check_out=2024-03-05&source_impression_id=p3_1707470212_XNsIeP6i1HBqSqbB&previous_page_section_name=1000&federated_search_id=107bc5bb-9945-45d0-8f52-8def5f94ec22',\n",
       " 'https://www.airbnb.fr/rooms/4261409?adults=1&children=0&enable_m3_private_room=true&infants=0&pets=0&check_in=2024-02-10&check_out=2024-02-15&source_impression_id=p3_1707470212_8kCVUHetPDbWJIxd&previous_page_section_name=1000&federated_search_id=107bc5bb-9945-45d0-8f52-8def5f94ec22',\n",
       " 'https://www.airbnb.fr/rooms/4261409?adults=1&children=0&enable_m3_private_room=true&infants=0&pets=0&check_in=2024-02-10&check_out=2024-02-15&source_impression_id=p3_1707470212_8kCVUHetPDbWJIxd&previous_page_section_name=1000&federated_search_id=107bc5bb-9945-45d0-8f52-8def5f94ec22',\n",
       " 'https://www.airbnb.fr/rooms/4261409?adults=1&children=0&enable_m3_private_room=true&infants=0&pets=0&check_in=2024-02-10&check_out=2024-02-15&source_impression_id=p3_1707470212_8kCVUHetPDbWJIxd&previous_page_section_name=1000&federated_search_id=107bc5bb-9945-45d0-8f52-8def5f94ec22',\n",
       " 'https://www.airbnb.fr/rooms/4261409?adults=1&children=0&enable_m3_private_room=true&infants=0&pets=0&check_in=2024-02-10&check_out=2024-02-15&source_impression_id=p3_1707470212_8kCVUHetPDbWJIxd&previous_page_section_name=1000&federated_search_id=107bc5bb-9945-45d0-8f52-8def5f94ec22',\n",
       " 'https://www.airbnb.fr/rooms/4261409?adults=1&children=0&enable_m3_private_room=true&infants=0&pets=0&check_in=2024-02-10&check_out=2024-02-15&source_impression_id=p3_1707470212_8kCVUHetPDbWJIxd&previous_page_section_name=1000&federated_search_id=107bc5bb-9945-45d0-8f52-8def5f94ec22',\n",
       " 'https://www.airbnb.fr/rooms/4261409?adults=1&children=0&enable_m3_private_room=true&infants=0&pets=0&check_in=2024-02-10&check_out=2024-02-15&source_impression_id=p3_1707470212_8kCVUHetPDbWJIxd&previous_page_section_name=1000&federated_search_id=107bc5bb-9945-45d0-8f52-8def5f94ec22',\n",
       " 'https://www.airbnb.fr/rooms/4261409?adults=1&children=0&enable_m3_private_room=true&infants=0&pets=0&check_in=2024-02-10&check_out=2024-02-15&source_impression_id=p3_1707470212_8kCVUHetPDbWJIxd&previous_page_section_name=1000&federated_search_id=107bc5bb-9945-45d0-8f52-8def5f94ec22',\n",
       " 'https://www.airbnb.fr/rooms/7068715?adults=1&children=0&enable_m3_private_room=true&infants=0&pets=0&check_in=2024-03-03&check_out=2024-03-08&source_impression_id=p3_1707470212_oCqm0McNA8TNRkJw&previous_page_section_name=1000&federated_search_id=107bc5bb-9945-45d0-8f52-8def5f94ec22',\n",
       " 'https://www.airbnb.fr/rooms/7068715?adults=1&children=0&enable_m3_private_room=true&infants=0&pets=0&check_in=2024-03-03&check_out=2024-03-08&source_impression_id=p3_1707470212_oCqm0McNA8TNRkJw&previous_page_section_name=1000&federated_search_id=107bc5bb-9945-45d0-8f52-8def5f94ec22',\n",
       " 'https://www.airbnb.fr/rooms/7068715?adults=1&children=0&enable_m3_private_room=true&infants=0&pets=0&check_in=2024-03-03&check_out=2024-03-08&source_impression_id=p3_1707470212_oCqm0McNA8TNRkJw&previous_page_section_name=1000&federated_search_id=107bc5bb-9945-45d0-8f52-8def5f94ec22',\n",
       " 'https://www.airbnb.fr/rooms/7068715?adults=1&children=0&enable_m3_private_room=true&infants=0&pets=0&check_in=2024-03-03&check_out=2024-03-08&source_impression_id=p3_1707470212_oCqm0McNA8TNRkJw&previous_page_section_name=1000&federated_search_id=107bc5bb-9945-45d0-8f52-8def5f94ec22',\n",
       " 'https://www.airbnb.fr/rooms/7068715?adults=1&children=0&enable_m3_private_room=true&infants=0&pets=0&check_in=2024-03-03&check_out=2024-03-08&source_impression_id=p3_1707470212_oCqm0McNA8TNRkJw&previous_page_section_name=1000&federated_search_id=107bc5bb-9945-45d0-8f52-8def5f94ec22',\n",
       " 'https://www.airbnb.fr/rooms/7068715?adults=1&children=0&enable_m3_private_room=true&infants=0&pets=0&check_in=2024-03-03&check_out=2024-03-08&source_impression_id=p3_1707470212_oCqm0McNA8TNRkJw&previous_page_section_name=1000&federated_search_id=107bc5bb-9945-45d0-8f52-8def5f94ec22',\n",
       " 'https://www.airbnb.fr/rooms/7068715?adults=1&children=0&enable_m3_private_room=true&infants=0&pets=0&check_in=2024-03-03&check_out=2024-03-08&source_impression_id=p3_1707470212_oCqm0McNA8TNRkJw&previous_page_section_name=1000&federated_search_id=107bc5bb-9945-45d0-8f52-8def5f94ec22',\n",
       " 'https://www.airbnb.fr/rooms/881844405066428362?adults=1&children=0&enable_m3_private_room=true&infants=0&pets=0&check_in=2024-03-03&check_out=2024-03-08&source_impression_id=p3_1707470212_D%2BsaJjc%2By9KeOmC1&previous_page_section_name=1000&federated_search_id=107bc5bb-9945-45d0-8f52-8def5f94ec22',\n",
       " 'https://www.airbnb.fr/rooms/881844405066428362?adults=1&children=0&enable_m3_private_room=true&infants=0&pets=0&check_in=2024-03-03&check_out=2024-03-08&source_impression_id=p3_1707470212_D%2BsaJjc%2By9KeOmC1&previous_page_section_name=1000&federated_search_id=107bc5bb-9945-45d0-8f52-8def5f94ec22',\n",
       " 'https://www.airbnb.fr/rooms/881844405066428362?adults=1&children=0&enable_m3_private_room=true&infants=0&pets=0&check_in=2024-03-03&check_out=2024-03-08&source_impression_id=p3_1707470212_D%2BsaJjc%2By9KeOmC1&previous_page_section_name=1000&federated_search_id=107bc5bb-9945-45d0-8f52-8def5f94ec22',\n",
       " 'https://www.airbnb.fr/rooms/881844405066428362?adults=1&children=0&enable_m3_private_room=true&infants=0&pets=0&check_in=2024-03-03&check_out=2024-03-08&source_impression_id=p3_1707470212_D%2BsaJjc%2By9KeOmC1&previous_page_section_name=1000&federated_search_id=107bc5bb-9945-45d0-8f52-8def5f94ec22',\n",
       " 'https://www.airbnb.fr/rooms/881844405066428362?adults=1&children=0&enable_m3_private_room=true&infants=0&pets=0&check_in=2024-03-03&check_out=2024-03-08&source_impression_id=p3_1707470212_D%2BsaJjc%2By9KeOmC1&previous_page_section_name=1000&federated_search_id=107bc5bb-9945-45d0-8f52-8def5f94ec22',\n",
       " 'https://www.airbnb.fr/rooms/881844405066428362?adults=1&children=0&enable_m3_private_room=true&infants=0&pets=0&check_in=2024-03-03&check_out=2024-03-08&source_impression_id=p3_1707470212_D%2BsaJjc%2By9KeOmC1&previous_page_section_name=1000&federated_search_id=107bc5bb-9945-45d0-8f52-8def5f94ec22',\n",
       " 'https://www.airbnb.fr/rooms/881844405066428362?adults=1&children=0&enable_m3_private_room=true&infants=0&pets=0&check_in=2024-03-03&check_out=2024-03-08&source_impression_id=p3_1707470212_D%2BsaJjc%2By9KeOmC1&previous_page_section_name=1000&federated_search_id=107bc5bb-9945-45d0-8f52-8def5f94ec22',\n",
       " 'https://www.airbnb.fr/rooms/916593091202217364?adults=1&children=0&enable_m3_private_room=true&infants=0&pets=0&check_in=2024-02-11&check_out=2024-02-16&source_impression_id=p3_1707470212_Ojw1acaKELt1ryJk&previous_page_section_name=1000&federated_search_id=107bc5bb-9945-45d0-8f52-8def5f94ec22',\n",
       " 'https://www.airbnb.fr/rooms/916593091202217364?adults=1&children=0&enable_m3_private_room=true&infants=0&pets=0&check_in=2024-02-11&check_out=2024-02-16&source_impression_id=p3_1707470212_Ojw1acaKELt1ryJk&previous_page_section_name=1000&federated_search_id=107bc5bb-9945-45d0-8f52-8def5f94ec22',\n",
       " 'https://www.airbnb.fr/rooms/916593091202217364?adults=1&children=0&enable_m3_private_room=true&infants=0&pets=0&check_in=2024-02-11&check_out=2024-02-16&source_impression_id=p3_1707470212_Ojw1acaKELt1ryJk&previous_page_section_name=1000&federated_search_id=107bc5bb-9945-45d0-8f52-8def5f94ec22',\n",
       " 'https://www.airbnb.fr/rooms/916593091202217364?adults=1&children=0&enable_m3_private_room=true&infants=0&pets=0&check_in=2024-02-11&check_out=2024-02-16&source_impression_id=p3_1707470212_Ojw1acaKELt1ryJk&previous_page_section_name=1000&federated_search_id=107bc5bb-9945-45d0-8f52-8def5f94ec22',\n",
       " 'https://www.airbnb.fr/rooms/916593091202217364?adults=1&children=0&enable_m3_private_room=true&infants=0&pets=0&check_in=2024-02-11&check_out=2024-02-16&source_impression_id=p3_1707470212_Ojw1acaKELt1ryJk&previous_page_section_name=1000&federated_search_id=107bc5bb-9945-45d0-8f52-8def5f94ec22',\n",
       " 'https://www.airbnb.fr/rooms/916593091202217364?adults=1&children=0&enable_m3_private_room=true&infants=0&pets=0&check_in=2024-02-11&check_out=2024-02-16&source_impression_id=p3_1707470212_Ojw1acaKELt1ryJk&previous_page_section_name=1000&federated_search_id=107bc5bb-9945-45d0-8f52-8def5f94ec22',\n",
       " 'https://www.airbnb.fr/rooms/916593091202217364?adults=1&children=0&enable_m3_private_room=true&infants=0&pets=0&check_in=2024-02-11&check_out=2024-02-16&source_impression_id=p3_1707470212_Ojw1acaKELt1ryJk&previous_page_section_name=1000&federated_search_id=107bc5bb-9945-45d0-8f52-8def5f94ec22']"
      ]
     },
     "execution_count": 7,
     "metadata": {},
     "output_type": "execute_result"
    }
   ],
   "source": [
    "urls"
   ]
  },
  {
   "cell_type": "code",
   "execution_count": 8,
   "metadata": {},
   "outputs": [
    {
     "data": {
      "text/plain": [
       "126"
      ]
     },
     "execution_count": 8,
     "metadata": {},
     "output_type": "execute_result"
    }
   ],
   "source": [
    "len(urls)"
   ]
  },
  {
   "cell_type": "code",
   "execution_count": 107,
   "metadata": {},
   "outputs": [
    {
     "data": {
      "text/plain": [
       "18"
      ]
     },
     "execution_count": 107,
     "metadata": {},
     "output_type": "execute_result"
    }
   ],
   "source": [
    "urls_sans_doublons = list(set(urls))\n",
    "len(urls_sans_doublons)"
   ]
  },
  {
   "cell_type": "code",
   "execution_count": 109,
   "metadata": {},
   "outputs": [
    {
     "data": {
      "text/plain": [
       "18"
      ]
     },
     "execution_count": 109,
     "metadata": {},
     "output_type": "execute_result"
    }
   ],
   "source": [
    "urls = urls_sans_doublons\n",
    "len(urls)"
   ]
  },
  {
   "cell_type": "code",
   "execution_count": 9,
   "metadata": {},
   "outputs": [],
   "source": [
    "import time\n",
    "import csv\n",
    "import undetected_chromedriver as uc\n",
    "from selenium.webdriver.chrome.options import Options\n",
    "from selenium.webdriver.common.by import By\n",
    "from selenium.webdriver.support.ui import WebDriverWait\n",
    "from selenium.webdriver.support import expected_conditions as EC\n",
    "from numpy import random\n",
    "from bs4 import BeautifulSoup\n"
   ]
  },
  {
   "cell_type": "code",
   "execution_count": 111,
   "metadata": {},
   "outputs": [
    {
     "data": {
      "text/plain": [
       "'https://www.airbnb.fr/rooms/42020392?adults=1&children=0&enable_m3_private_room=true&infants=0&pets=0&check_in=2024-02-29&check_out=2024-03-05&source_impression_id=p3_1707470212_Y%2FjWcGkYhCmirqz0&previous_page_section_name=1000&federated_search_id=107bc5bb-9945-45d0-8f52-8def5f94ec22'"
      ]
     },
     "execution_count": 111,
     "metadata": {},
     "output_type": "execute_result"
    }
   ],
   "source": [
    "urls[5]"
   ]
  },
  {
   "cell_type": "code",
   "execution_count": 113,
   "metadata": {},
   "outputs": [],
   "source": [
    "url = urls[5]\n",
    "options = uc.ChromeOptions()\n",
    "driver = uc.Chrome(options=options) \n",
    "driver.get(url)\n",
    "result = {}\n",
    "\n",
    "# Attendre que la page soit complètement chargée\n",
    "wait = WebDriverWait(driver, 120)  # Attendre jusqu'à 10 secondes maximum\n",
    "wait.until(EC.presence_of_element_located((By.CLASS_NAME, \"c6y5den\")))\n",
    "\n",
    "page_source = driver.page_source\n",
    "soup = BeautifulSoup(page_source, 'html.parser')\n",
    "driver.quit()"
   ]
  },
  {
   "cell_type": "code",
   "execution_count": 114,
   "metadata": {},
   "outputs": [
    {
     "data": {
      "text/plain": [
       "\"Le Jardin ⭐️⭐️⭐️ : sur le toit d'exception au ❤️ de SXB\""
      ]
     },
     "execution_count": 114,
     "metadata": {},
     "output_type": "execute_result"
    }
   ],
   "source": [
    "title = soup.find('h1').text.strip()\n",
    "title"
   ]
  },
  {
   "cell_type": "code",
   "execution_count": 116,
   "metadata": {},
   "outputs": [
    {
     "data": {
      "text/plain": [
       "['3 voyageurs·', '·1 chambre·', '·2 lits·', '·1 salle de bain et 1 toilette']"
      ]
     },
     "execution_count": 116,
     "metadata": {},
     "output_type": "execute_result"
    }
   ],
   "source": [
    "##Caractéristiques\n",
    "# Trouver la balise ol\n",
    "ol_tag = soup.find('ol', class_='lgx66tx')\n",
    "\n",
    "# Initialiser une liste pour stocker les éléments de li\n",
    "liste_elements_li = []\n",
    "\n",
    "# Parcourir toutes les balises li dans la balise ol\n",
    "for li_tag in ol_tag.find_all('li'):\n",
    "    # Extraire le texte de la balise li et l'ajouter à la liste\n",
    "    texte_li = li_tag.get_text(strip=True)\n",
    "    texte_li = texte_li.replace('\\xa0', ' ')\n",
    "    liste_elements_li.append(texte_li)\n",
    "\n",
    "liste_elements_li"
   ]
  },
  {
   "cell_type": "code",
   "execution_count": 117,
   "metadata": {},
   "outputs": [
    {
     "data": {
      "text/plain": [
       "'113 €'"
      ]
     },
     "execution_count": 117,
     "metadata": {},
     "output_type": "execute_result"
    }
   ],
   "source": [
    "##Prix\n",
    "# Trouvez la balise span par sa classe\n",
    "span_tag = soup.find('span', class_='_tyxjp1')\n",
    "\n",
    "# Récupérez le texte de la balise\n",
    "text = span_tag.get_text(strip=True)\n",
    "# Remplacer le caractère spécial '\\xa0' par un espace régulier\n",
    "text = text.replace('\\xa0', ' ')\n",
    "text"
   ]
  },
  {
   "cell_type": "code",
   "execution_count": 118,
   "metadata": {},
   "outputs": [
    {
     "data": {
      "text/plain": [
       "['Certaines informations ont été traduites automatiquement.',\n",
       " \"Au centre ville, idéalement situé entre la gare et la cathédrale, découvrez Strasbourg sous un angle unique. Depuis le 6e étage (ascenseur), une vue imprenable sur la ville s'offre à vous grâce à ce rooftop rareThe Garden, appartement entièrement rénové (classé 3 étoiles) dont la vue vous plonge au cœur de la ville. Amoureux du design, nous avons mis tout notre cœur dans la décoration de ce lieu d'exception. Profitez d'un point de vue rare depuis la terrasse arborée et aménagée.Le logementL'entrée sécurisée dans l'immeuble se fait via un portail dont vous recevrez les codes le jour de votre arrivée.Votre cocon vous attend au 6e étage, accessible grâce à un ascenseur.Profitez un maximum de cette bulle hors du temps grâce à une large amplitude de séjour : check-in à 14h et check-out à 11h.Pour des conditions de séjour optimale, nous conseillons les capacités d'accueil pour deux adultes (chambre dédiée dans un lit queen size), un enfant (canapé-lit dans le salon) et un bébé (lit parapluie).La cuisine toute équipée donne directement sur le séjour pour plus de convivialité. Vous aurez accès au four, lave-vaisselles, micro-ondes, bouilloire, cafetière française, frigo, congélateur, machine à glaçons, mixeur ainsi que tout le matériel nécessaire pour faire la cuisine si vous le désirez.Une chaise haute est disponible dans l'espace repas pour les plus petits.Dans le séjour, une télévision est à votre disposition ainsi qu'une console de jeu N64, des jeux de sociétés et des livres. Des guides de Strasbourg et de l'Alsace sont aussi consultables sur place. Pour les amoureux de la musique, un piano électrique avec possibilité d'y brancher un casque est présent.La salle de bain avec sa grande douche italienne vous offre un moment de détente. Tous les produits de douche sont disponibles, ainsi que des serviettes.Une machine à laver est également à votre disposition.Les toilettes et leur lave-main sont à part pour plus de confort.Enfin, l'immense terrasse vous permet un moment de détente unique. Profitez d'un petit apéro face au coucher de soleil dans l'espace côté Halles. Ou bien d'un repas sur la table extérieure à la lumière des guinguettes. Ou encore d'une sieste dans les hamacs suspendus sous les arbres. A chaque moment de la journée, le rooftop s'adapte à vos envies.Grâce à tous ces efforts, nous avons eu la chance d'être classé meublé de tourisme 3 étoiles par Etoile France.Accès des voyageursVous aurez accès à l'ensemble du logement : appartement et terrasse privée en rooftop.La cour intérieure partagée de l'immeuble vous permet de stationner votre vélo dans les arceaux dédiés.Autres remarquesLa terrasse a été entièrement refaite en octobre 2021.Le canapé-lit du salon est recommandé pour un enfant.Numéro d'enregistrement67482001686E7\",\n",
       " 'Ce logement était super.Joliment décoré, très central au-dessus des toits de Strasbourg.. nous nous sommes sentis très bien accueillis et nous reviendrons donc certainement..',\n",
       " \"Logement d'exception, fidèle à la description, calme, à proximité de tout, bar, restaurant, gare tout peut se faire à pied ou tram dans la rue. Nous avons passé un excellent week-end dans ce somptueux rooftop. Je recommande à 100%!!!!\",\n",
       " 'Super appartement et super localisation.Je recommande',\n",
       " 'Bel appartement en plein centre de Strasbourg.',\n",
       " \"Merci beaucoup d'avoir accueilli notre fils\\xa0! Nous espérons rester avec vous à l'avenir\\xa0!\\xa0!\",\n",
       " \"10/10 séjournerait ici. L'appartement était si agréable et mignon. Super emplacement. Tout à Strasbourg se trouvait à distance de marche de l'airbnb. Nicolas est un hôte formidable\\xa0!\",\n",
       " \"Lieu de rencontres cosmopolites, à la croisée des mondes et des transports, le quartier de l'Homme de Fer à tout pour vous surprendre.Accolé à la place Kleber, il vous offre une position stratégique pour les férus de shopping : les Galeries Lafayette, le centre commercial les Halles et les boutiques du centre ville sont au pied de l'immeuble.Pour les passionnés d'histoire, la Petite France se trouve à 5 minutes, en traversant la rue du 22 Novembre, riche en terrasses et devenue piétonne.Mettez vous au rythme français grâce aux nombreuses boulangeries ouvertes, même le dimanche ! Au Pain de mon Grand-Père, les Mains dans la Farine, Westermann...\",\n",
       " \"Nous habitons dans l'immeuble et sommes disponibles si vous avez des questions et nous ferons un plaisir de vous donner nos adresses favorites à Strasbourg et alentours !\",\n",
       " '67482001686E7',\n",
       " 'English, Français, Español']"
      ]
     },
     "execution_count": 118,
     "metadata": {},
     "output_type": "execute_result"
    }
   ],
   "source": [
    "## Description:\n",
    "# Trouvez la balise div par sa classe\n",
    "div_tag = soup.find_all('span', class_='lrl13de')\n",
    "\n",
    "liste_desc = []\n",
    "# Récupérez le texte de la balise\n",
    "for element in div_tag:\n",
    "    texte = element.get_text(strip=True)\n",
    "    liste_desc.append(texte)\n",
    "\n",
    "liste_desc"
   ]
  },
  {
   "cell_type": "code",
   "execution_count": 126,
   "metadata": {},
   "outputs": [
    {
     "data": {
      "text/plain": [
       "\"Lieu de rencontres cosmopolites, à la croisée des mondes et des transports, le quartier de l'Homme de Fer à tout pour vous surprendre.Accolé à la place Kleber, il vous offre une position stratégique pour les férus de shopping : les Galeries Lafayette, le centre commercial les Halles et les boutiques du centre ville sont au pied de l'immeuble.Pour les passionnés d'histoire, la Petite France se trouve à 5 minutes, en traversant la rue du 22 Novembre, riche en terrasses et devenue piétonne.Mettez vous au rythme français grâce aux nombreuses boulangeries ouvertes, même le dimanche ! Au Pain de mon Grand-Père, les Mains dans la Farine, Westermann...\""
      ]
     },
     "execution_count": 126,
     "metadata": {},
     "output_type": "execute_result"
    }
   ],
   "source": [
    "liste_desc[8] #1 et 8 pour description appart et desci"
   ]
  },
  {
   "cell_type": "code",
   "execution_count": 120,
   "metadata": {},
   "outputs": [
    {
     "data": {
      "text/plain": [
       "['Vue panoramique sur la ville',\n",
       " 'Cuisine',\n",
       " 'Vitesse du réseau wifi : 0 Mbps',\n",
       " 'Espace de travail dédié',\n",
       " 'Animaux acceptés',\n",
       " 'TV HD avec Netflix, abonnement standard au câble',\n",
       " 'Ascenseur',\n",
       " 'Lave-linge (Gratuit) dans le logement',\n",
       " 'Climatisation centrale',\n",
       " 'Patio ou balcon : privé(e)']"
      ]
     },
     "execution_count": 120,
     "metadata": {},
     "output_type": "execute_result"
    }
   ],
   "source": [
    "##Equipements:\n",
    "liste_equipements = []\n",
    "div_tag_equip = soup.find_all('div', class_ = \"_19xnuo97\")\n",
    "for element in div_tag_equip:\n",
    "    texte = element.get_text(strip = True)\n",
    "    texte = texte.replace('\\xa0', ' ')\n",
    "    liste_equipements.append(texte)\n",
    "\n",
    "liste_equipements\n"
   ]
  },
  {
   "cell_type": "code",
   "execution_count": 121,
   "metadata": {},
   "outputs": [
    {
     "data": {
      "text/plain": [
       "['Nicolas']"
      ]
     },
     "execution_count": 121,
     "metadata": {},
     "output_type": "execute_result"
    }
   ],
   "source": [
    "## Nom de l'hôte:\n",
    "div_nom_hote = soup.find('div', class_='t1pxe1a4')\n",
    "l_h2=[]\n",
    "for element in div_nom_hote:\n",
    "    texte = element.get_text(strip=True)\n",
    "    nom = texte.split(': ')[-1]\n",
    "    l_h2.append(nom)\n",
    "\n",
    "l_h2"
   ]
  },
  {
   "cell_type": "code",
   "execution_count": 122,
   "metadata": {},
   "outputs": [
    {
     "data": {
      "text/plain": [
       "[]"
      ]
     },
     "execution_count": 122,
     "metadata": {},
     "output_type": "execute_result"
    }
   ],
   "source": [
    "##Lit sans photos:\n",
    "div_lit = soup.find_all('div', class_= '_qivhwv')\n",
    "l_lit = []\n",
    "for element in div_lit:\n",
    "    texte = element.get_text(strip = True)\n",
    "    l_lit.append(texte)\n",
    "\n",
    "l_lit"
   ]
  },
  {
   "cell_type": "code",
   "execution_count": 124,
   "metadata": {},
   "outputs": [
    {
     "data": {
      "text/plain": [
       "['1 lit queen size, 1 lit pour bébé', '1 canapé convertible']"
      ]
     },
     "execution_count": 124,
     "metadata": {},
     "output_type": "execute_result"
    }
   ],
   "source": [
    "##Lit avec photos:\n",
    "div_lit_photo = soup.find_all('div', class_= '_19c0q1z')\n",
    "l_lit_photo = []\n",
    "for element in div_lit_photo:\n",
    "    texte = element.get_text(strip = True)\n",
    "    l_lit_photo.append(texte)\n",
    "\n",
    "l_lit_photo"
   ]
  },
  {
   "cell_type": "code",
   "execution_count": 138,
   "metadata": {},
   "outputs": [],
   "source": [
    "## Recupere l'url des pages suivantes:\n",
    "url_page1 = \"https://www.airbnb.fr/s/Strasbourg--France/homes?tab_id=home_tab&refinement_paths%5B%5D=%2Fhomes&flexible_trip_lengths%5B%5D=one_week&monthly_start_date=2024-03-01&monthly_length=3&monthly_end_date=2024-06-01&price_filter_input_type=0&channel=EXPLORE&query=Strasbourg%2C%20France&place_id=ChIJwbIYXknIlkcRHyTnGDFIGpc&date_picker_type=calendar&source=structured_search_input_header&search_type=user_map_move&price_filter_num_nights=5&ne_lat=48.58409701571937&ne_lng=7.758660890214969&sw_lat=48.57459821318074&sw_lng=7.7494763848035575&zoom=15.633474778505468&zoom_level=15&search_by_map=true&federated_search_session_id=95b2e9a5-b395-41cd-b214-925d50bd2005&pagination_search=true&cursor=eyJzZWN0aW9uX29mZnNldCI6MCwiaXRlbXNfb2Zmc2V0IjowLCJ2ZXJzaW9uIjoxfQ%3D%3D\"\n",
    "options = uc.ChromeOptions()\n",
    "driver = uc.Chrome(options=options) \n",
    "driver.get(url_page1)\n",
    "\n",
    "url_pages=[]\n",
    "url_elements_pages = driver.find_elements(By.XPATH, '//a[contains(@class, \"l1ovpqvx\")]')\n",
    "if url_elements_pages:\n",
    "        \n",
    "        url_pages.append(url_elements_pages[1].get_attribute('href'))\n",
    "\n",
    "driver.quit()"
   ]
  },
  {
   "cell_type": "code",
   "execution_count": 139,
   "metadata": {},
   "outputs": [
    {
     "data": {
      "text/plain": [
       "['https://www.airbnb.fr/rooms/15783575?adults=1&children=0&enable_m3_private_room=true&infants=0&pets=0&check_in=2024-02-18&check_out=2024-02-23&source_impression_id=p3_1707820680_DitEkN1EEIzGMJEW&previous_page_section_name=1000&federated_search_id=19646b32-bc62-40a3-80ae-814e2ac6930f']"
      ]
     },
     "execution_count": 139,
     "metadata": {},
     "output_type": "execute_result"
    }
   ],
   "source": [
    "url_pages"
   ]
  }
 ],
 "metadata": {
  "kernelspec": {
   "display_name": "scrapenv",
   "language": "python",
   "name": "python3"
  },
  "language_info": {
   "codemirror_mode": {
    "name": "ipython",
    "version": 3
   },
   "file_extension": ".py",
   "mimetype": "text/x-python",
   "name": "python",
   "nbconvert_exporter": "python",
   "pygments_lexer": "ipython3",
   "version": "3.9.18"
  }
 },
 "nbformat": 4,
 "nbformat_minor": 2
}
